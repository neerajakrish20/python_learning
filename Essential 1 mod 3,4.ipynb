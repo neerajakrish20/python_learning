{
 "cells": [
  {
   "cell_type": "code",
   "execution_count": 5,
   "metadata": {
    "ExecuteTime": {
     "end_time": "2022-12-08T14:08:57.467050Z",
     "start_time": "2022-12-08T14:08:50.965509Z"
    }
   },
   "outputs": [
    {
     "name": "stdout",
     "output_type": "stream",
     "text": [
      "Enter a number4\n",
      "Enter a number7\n",
      "7\n"
     ]
    }
   ],
   "source": [
    "# larger of two numbers:\n",
    "num1=int(input('Enter a number'))\n",
    "num2=int(input('Enter a number'))\n",
    "if num1>num1:\n",
    "    largest_number=num1\n",
    "else: \n",
    "    largest_number=num2\n",
    "print(\"The larger number is:\", larger_number)"
   ]
  },
  {
   "cell_type": "code",
   "execution_count": 7,
   "metadata": {
    "ExecuteTime": {
     "end_time": "2022-12-08T14:11:38.923099Z",
     "start_time": "2022-12-08T14:11:34.403124Z"
    }
   },
   "outputs": [
    {
     "name": "stdout",
     "output_type": "stream",
     "text": [
      "Enter the first number: 6\n",
      "Enter the second number: 7\n",
      "Enter the third number: 8\n",
      "The largest number is: 8\n",
      "The smallest number is: 6\n"
     ]
    }
   ],
   "source": [
    "# Read three numbers which one is maximum.\n",
    "number1 = int(input(\"Enter the first number: \"))\n",
    "number2 = int(input(\"Enter the second number: \"))\n",
    "number3 = int(input(\"Enter the third number: \"))\n",
    "largest_number = max(number1, number2, number3)\n",
    "print(\"The largest number is:\", largest_number)\n",
    "largest_number = min(number1, number2, number3)\n",
    "print(\"The smallest number is:\", largest_number)"
   ]
  },
  {
   "cell_type": "markdown",
   "metadata": {},
   "source": [
    "Scenario\n",
    "Spathiphyllum, more commonly known as a peace lily or white sail plant, is one of the most popular indoor houseplants that filters out harmful toxins from the air. Some of the toxins that it neutralizes include benzene, formaldehyde, and ammonia.\n",
    "\n",
    "Imagine that your computer program loves these plants. Whenever it receives an input in the form of the word Spathiphyllum, it involuntarily shouts to the console the following string: \"Spathiphyllum is the best plant ever!\"\n",
    "\n",
    "\n",
    "Write a program that utilizes the concept of conditional execution, takes a string as input, and:\n",
    "\n",
    "prints the sentence \"Yes - Spathiphyllum is the best plant ever!\" to the screen if the inputted string is \"Spathiphyllum\" (upper-case)\n",
    "prints \"No, I want a big Spathiphyllum!\" if the inputted string is \"spathiphyllum\" (lower-case)\n",
    "prints \"Spathiphyllum! Not [input]!\" otherwise. Note: [input] is the string taken as input.\n",
    "\n",
    "Test your code using the data we've provided for you. And get yourself a Spathiphyllum, too!\n",
    "\n",
    "\n",
    "Test Data\n",
    "Sample input: spathiphyllum\n",
    "\n",
    "Expected output: No, I want a big Spathiphyllum!\n",
    "\n",
    "Sample input: pelargonium\n",
    "\n",
    "Expected output: Spathiphyllum! Not pelargonium!\n",
    "\n",
    "Sample input: Spathiphyllum\n",
    "\n",
    "Expected output: Yes - Spathiphyllum is the best plant ever!"
   ]
  },
  {
   "cell_type": "code",
   "execution_count": 8,
   "metadata": {
    "ExecuteTime": {
     "end_time": "2022-12-08T14:47:37.216870Z",
     "start_time": "2022-12-08T14:47:26.240416Z"
    }
   },
   "outputs": [
    {
     "name": "stdout",
     "output_type": "stream",
     "text": [
      "enter the above name \n",
      "Spathiphyllum\n",
      "spathiphyllum\n",
      "pelargonium\n",
      "enter a plant is:Spathiphyllum\n",
      "Yes - Spathiphyllum is the best plant ever!\n"
     ]
    }
   ],
   "source": [
    "print(\"enter the above name \\nSpathiphyllum\\nspathiphyllum\\npelargonium\")\n",
    "output=input(\"enter a plant is:\")\n",
    "if output=='spathiphyllum':\n",
    "    print(\"No, I want a big Spathiphyllum!\")\n",
    "elif output=='pelargonium':\n",
    "    print(\"Spathiphyllum! Not pelargonium!\")\n",
    "elif output=='Spathiphyllum':\n",
    "    print(\"Yes - Spathiphyllum is the best plant ever!\")\n",
    "else:\n",
    "    print(\"No input\")"
   ]
  },
  {
   "cell_type": "code",
   "execution_count": 9,
   "metadata": {
    "ExecuteTime": {
     "end_time": "2022-12-09T12:00:49.738584Z",
     "start_time": "2022-12-09T12:00:40.295957Z"
    }
   },
   "outputs": [
    {
     "name": "stdout",
     "output_type": "stream",
     "text": [
      "Enter your name: Neeraja\n",
      "Hello, Neeraja\n"
     ]
    }
   ],
   "source": [
    "def hello(name):    # defining a function\n",
    "    print(\"Hello,\", name)    # body of the function\n",
    "\n",
    "\n",
    "name = input(\"Enter your name: \")\n",
    "\n",
    "hello(name)    # calling the function"
   ]
  },
  {
   "cell_type": "code",
   "execution_count": 10,
   "metadata": {
    "ExecuteTime": {
     "end_time": "2022-12-09T12:01:49.543292Z",
     "start_time": "2022-12-09T12:01:49.536797Z"
    }
   },
   "outputs": [
    {
     "name": "stdout",
     "output_type": "stream",
     "text": [
      "Enter a number: 1\n"
     ]
    }
   ],
   "source": [
    "#Parametrized functions\n",
    "def message(number):\n",
    "    print(\"Enter a number:\", number)\n",
    "\n",
    "message(1)"
   ]
  },
  {
   "cell_type": "code",
   "execution_count": 12,
   "metadata": {
    "ExecuteTime": {
     "end_time": "2022-12-09T12:04:56.427572Z",
     "start_time": "2022-12-09T12:04:56.416853Z"
    }
   },
   "outputs": [
    {
     "name": "stdout",
     "output_type": "stream",
     "text": [
      "Enter telephone number 11\n",
      "Enter price number 5\n",
      "Enter mobilenumber number 8072499193\n"
     ]
    }
   ],
   "source": [
    "#2 Parametes\n",
    "def message(what, number):\n",
    "    print(\"Enter\", what, \"number\", number)\n",
    "\n",
    "message(\"telephone\", 11)\n",
    "message(\"price\", 5)\n",
    "message(\"mobilenumber\", 8072499193)"
   ]
  },
  {
   "cell_type": "code",
   "execution_count": 13,
   "metadata": {
    "ExecuteTime": {
     "end_time": "2022-12-09T12:22:35.618642Z",
     "start_time": "2022-12-09T12:22:35.608983Z"
    }
   },
   "outputs": [
    {
     "name": "stdout",
     "output_type": "stream",
     "text": [
      "Hello, my name is neeraja krishnamoorthy\n",
      "Hello, my name is balaji thangaraj\n",
      "Hello, my name is neeraja balaji\n"
     ]
    }
   ],
   "source": [
    "def introduction(first_name, last_name):\n",
    "    print(\"Hello, my name is\", first_name, last_name)\n",
    "\n",
    "introduction(\"neeraja\", \"krishnamoorthy\")\n",
    "introduction(\"balaji\", \"thangaraj\")\n",
    "introduction(\"neeraja\", \"balaji\")"
   ]
  },
  {
   "cell_type": "code",
   "execution_count": 15,
   "metadata": {
    "ExecuteTime": {
     "end_time": "2022-12-09T12:29:39.001797Z",
     "start_time": "2022-12-09T12:29:38.993066Z"
    }
   },
   "outputs": [
    {
     "name": "stdout",
     "output_type": "stream",
     "text": [
      "Hello, my name is neeraja krishnamoorthy\n",
      "Hello, my name is balaji Thangaraj\n"
     ]
    }
   ],
   "source": [
    "#Keyword argument passing\n",
    "def introduction(Firstname,Lastname):\n",
    "    print(\"Hello, my name is\",Firstname,Lastname)\n",
    "introduction(Firstname=\"neeraja\",Lastname=\"krishnamoorthy\")\n",
    "introduction(Firstname=\"balaji\",Lastname=\"Thangaraj\")"
   ]
  },
  {
   "cell_type": "code",
   "execution_count": 16,
   "metadata": {
    "ExecuteTime": {
     "end_time": "2022-12-09T12:35:24.581699Z",
     "start_time": "2022-12-09T12:35:24.572947Z"
    }
   },
   "outputs": [
    {
     "name": "stdout",
     "output_type": "stream",
     "text": [
      "1 + 3 + 5 = 9\n"
     ]
    }
   ],
   "source": [
    "#Mixing positional and keyword arguments\n",
    "def adding(a,b,c):\n",
    "    print(a,\"+\",b,\"+\",c,\"=\",a+b+c)\n",
    "adding(1,3,5)"
   ]
  },
  {
   "cell_type": "code",
   "execution_count": 17,
   "metadata": {
    "ExecuteTime": {
     "end_time": "2022-12-09T13:08:00.239005Z",
     "start_time": "2022-12-09T13:08:00.231218Z"
    }
   },
   "outputs": [
    {
     "name": "stdout",
     "output_type": "stream",
     "text": [
      "Hello, my name is neeraja krishnamoorthy\n",
      "Hello, my name is james smith\n"
     ]
    }
   ],
   "source": [
    "#Parametrized functions(default parameter value)\n",
    "def introduction(Firstname,Lastname='smith'):\n",
    "    print(\"Hello, my name is\",Firstname,Lastname)\n",
    "introduction(\"neeraja\",\"krishnamoorthy\")\n",
    "introduction(\"james\")"
   ]
  },
  {
   "cell_type": "code",
   "execution_count": 21,
   "metadata": {
    "ExecuteTime": {
     "end_time": "2022-12-09T13:12:39.189644Z",
     "start_time": "2022-12-09T13:12:39.181742Z"
    }
   },
   "outputs": [
    {
     "name": "stdout",
     "output_type": "stream",
     "text": [
      "My name is harini . harini krishnamoorthy .\n"
     ]
    }
   ],
   "source": [
    "def intro(a=\"harini\",b=\"harini krishnamoorthy\"):\n",
    "   print(\"My name is\",a,\".\",b,\".\")\n",
    "intro()"
   ]
  },
  {
   "cell_type": "code",
   "execution_count": 22,
   "metadata": {
    "ExecuteTime": {
     "end_time": "2022-12-12T06:25:06.787748Z",
     "start_time": "2022-12-12T06:25:06.779763Z"
    }
   },
   "outputs": [
    {
     "name": "stdout",
     "output_type": "stream",
     "text": [
      "This lesson is interesting!\n",
      "'Boredom Mode' ON.\n",
      "This lesson is boring...\n"
     ]
    }
   ],
   "source": [
    "#Effect and result:The Result Instruction\n",
    "def boring_function():\n",
    "    print(\"'Boredom Mode' ON.\")\n",
    "    return \n",
    "\n",
    "print(\"This lesson is interesting!\")\n",
    "boring_function()\n",
    "print(\"This lesson is boring...\")\n"
   ]
  },
  {
   "cell_type": "markdown",
   "metadata": {},
   "source": [
    "#A few words about None\n",
    "Its data doesn't represent any reasonable value - actually, it's not a value at all; hence, it mustn't take part in any expressions.\n",
    "1.when you assign it to a variable (or return it as a function's result)\n",
    "2.when you compare it with a variable to diagnose its internal state.\n",
    "Note: if a function doesn't return a certain value using a return expression clause, it is assumed that it implicitly returns None."
   ]
  },
  {
   "cell_type": "code",
   "execution_count": 23,
   "metadata": {
    "ExecuteTime": {
     "end_time": "2022-12-12T06:29:14.688651Z",
     "start_time": "2022-12-12T06:29:14.673460Z"
    }
   },
   "outputs": [
    {
     "ename": "TypeError",
     "evalue": "unsupported operand type(s) for +: 'NoneType' and 'int'",
     "output_type": "error",
     "traceback": [
      "\u001b[0;31m---------------------------------------------------------------------------\u001b[0m",
      "\u001b[0;31mTypeError\u001b[0m                                 Traceback (most recent call last)",
      "\u001b[0;32m<ipython-input-23-68583bc82676>\u001b[0m in \u001b[0;36m<module>\u001b[0;34m\u001b[0m\n\u001b[1;32m      1\u001b[0m \u001b[0;31m#for example\u001b[0m\u001b[0;34m\u001b[0m\u001b[0;34m\u001b[0m\u001b[0;34m\u001b[0m\u001b[0m\n\u001b[0;32m----> 2\u001b[0;31m \u001b[0mprint\u001b[0m\u001b[0;34m(\u001b[0m\u001b[0;32mNone\u001b[0m \u001b[0;34m+\u001b[0m \u001b[0;36m2\u001b[0m\u001b[0;34m)\u001b[0m\u001b[0;34m\u001b[0m\u001b[0;34m\u001b[0m\u001b[0m\n\u001b[0m",
      "\u001b[0;31mTypeError\u001b[0m: unsupported operand type(s) for +: 'NoneType' and 'int'"
     ]
    }
   ],
   "source": [
    "#for example\n",
    "print(None + 2)"
   ]
  },
  {
   "cell_type": "code",
   "execution_count": 24,
   "metadata": {
    "ExecuteTime": {
     "end_time": "2022-12-12T06:30:47.207395Z",
     "start_time": "2022-12-12T06:30:47.201276Z"
    }
   },
   "outputs": [
    {
     "name": "stdout",
     "output_type": "stream",
     "text": [
      "Sorry, you don't carry any value\n"
     ]
    }
   ],
   "source": [
    "value = None\n",
    "if value is None:\n",
    "    print(\"Sorry, you don't carry any value\")"
   ]
  },
  {
   "cell_type": "code",
   "execution_count": 25,
   "metadata": {
    "ExecuteTime": {
     "end_time": "2022-12-12T06:45:58.974414Z",
     "start_time": "2022-12-12T06:45:58.966739Z"
    }
   },
   "outputs": [
    {
     "name": "stdout",
     "output_type": "stream",
     "text": [
      "True\n",
      "None\n"
     ]
    }
   ],
   "source": [
    "#stange function\n",
    "def strange_function(n):\n",
    "     if(n % 2 == 0):\n",
    "        return True\n",
    "print(strange_function(2))\n",
    "print(strange_function(1))"
   ]
  },
  {
   "cell_type": "code",
   "execution_count": null,
   "metadata": {},
   "outputs": [],
   "source": []
  }
 ],
 "metadata": {
  "kernelspec": {
   "display_name": "Python 3",
   "language": "python",
   "name": "python3"
  },
  "language_info": {
   "codemirror_mode": {
    "name": "ipython",
    "version": 3
   },
   "file_extension": ".py",
   "mimetype": "text/x-python",
   "name": "python",
   "nbconvert_exporter": "python",
   "pygments_lexer": "ipython3",
   "version": "3.8.5"
  },
  "toc": {
   "base_numbering": 1,
   "nav_menu": {},
   "number_sections": false,
   "sideBar": true,
   "skip_h1_title": false,
   "title_cell": "Table of Contents",
   "title_sidebar": "Contents",
   "toc_cell": false,
   "toc_position": {},
   "toc_section_display": true,
   "toc_window_display": false
  }
 },
 "nbformat": 4,
 "nbformat_minor": 4
}
