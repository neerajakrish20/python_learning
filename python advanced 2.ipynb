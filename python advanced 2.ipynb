{
 "cells": [
  {
   "cell_type": "markdown",
   "metadata": {},
   "source": [
    "PEP 1 – PEP Purpose and Guidelines\n",
    "Python Enhancement Proposals\n",
    "In fact, is a collection of guidelines\n",
    "best practices\n",
    "descriptions of (new) features and implementations\n",
    "as well as processes\n",
    "mechanisms \n",
    "important information surrounding Python."
   ]
  },
  {
   "cell_type": "markdown",
   "metadata": {},
   "source": [
    "There are three different types of PEPs:\n",
    "\n",
    "1.Standards Track PEPs :which describe new language features and implementations;\n",
    "2.Informational PEPs, which describe Python design issues, as well as provide guidelines and information to the Python community;\n",
    "3.Process PEPs, which describe various processes that revolve around Python (e.g., propose changes, provide recommendations, specify certain procedures)."
   ]
  },
  {
   "cell_type": "code",
   "execution_count": null,
   "metadata": {},
   "outputs": [],
   "source": [
    " subsequent stages: \n",
    "review, resolution, and maintenance,"
   ]
  },
  {
   "cell_type": "markdown",
   "metadata": {},
   "source": [
    "1. Python’s Steering Council:\n",
    "i.e., a five-person committee and the final authorities who accept or reject PEPs;\n",
    "2. Python’s Core Developers\n",
    "i.e., the group of volunteers who manage Python, \n",
    "3. Python’s BDFL\n",
    "i.e., Guido van Rossum, the original creator of Python, who served as the project’s Benevolent Dictator For Life until 2018, when he resigned from the decision-making process."
   ]
  },
  {
   "cell_type": "markdown",
   "metadata": {},
   "source": [
    "PEP 20 – The Zen of Python\n",
    "1. The Zen of Python is a collection of 19 aphorisms\n",
    "2. which reflect \n",
    " The philosophy behind Python, its guiding principles, and design"
   ]
  },
  {
   "cell_type": "code",
   "execution_count": 1,
   "metadata": {
    "ExecuteTime": {
     "end_time": "2022-12-12T13:11:15.549246Z",
     "start_time": "2022-12-12T13:11:15.540169Z"
    }
   },
   "outputs": [
    {
     "name": "stdout",
     "output_type": "stream",
     "text": [
      "The Zen of Python, by Tim Peters\n",
      "\n",
      "Beautiful is better than ugly.\n",
      "Explicit is better than implicit.\n",
      "Simple is better than complex.\n",
      "Complex is better than complicated.\n",
      "Flat is better than nested.\n",
      "Sparse is better than dense.\n",
      "Readability counts.\n",
      "Special cases aren't special enough to break the rules.\n",
      "Although practicality beats purity.\n",
      "Errors should never pass silently.\n",
      "Unless explicitly silenced.\n",
      "In the face of ambiguity, refuse the temptation to guess.\n",
      "There should be one-- and preferably only one --obvious way to do it.\n",
      "Although that way may not be obvious at first unless you're Dutch.\n",
      "Now is better than never.\n",
      "Although never is often better than *right* now.\n",
      "If the implementation is hard to explain, it's a bad idea.\n",
      "If the implementation is easy to explain, it may be a good idea.\n",
      "Namespaces are one honking great idea -- let's do more of those!\n"
     ]
    }
   ],
   "source": [
    "import this"
   ]
  },
  {
   "cell_type": "markdown",
   "metadata": {},
   "source": [
    "#1.Beautiful is better than ugly.\n",
    "Beauty is a rather subjective experience. \n",
    "But, as Immanuel Kant said, the very esthetic experience of beauty is a judgement of human truth.\n",
    "# rules\n",
    "1. a 79-character maximum line length\n",
    "2. variable naming conventions\n",
    "3. placing statements on separate lines \n",
    "4. many others."
   ]
  },
  {
   "cell_type": "code",
   "execution_count": 3,
   "metadata": {
    "ExecuteTime": {
     "end_time": "2022-12-12T13:18:32.533777Z",
     "start_time": "2022-12-12T13:18:28.754838Z"
    }
   },
   "outputs": [
    {
     "name": "stdout",
     "output_type": "stream",
     "text": [
      "The length of the 'a' side: 2\n",
      "The length of the 'b' side: 4\n",
      "The length of the hypotenuse is 4.47213595499958\n"
     ]
    }
   ],
   "source": [
    "# for example:\n",
    "from math import sqrt\n",
    "\n",
    "a = float(input(\"The length of the 'a' side: \"))\n",
    "b = float(input(\"The length of the 'b' side: \"))\n",
    "hypotenuse = sqrt(a**2 + b**2)\n",
    "\n",
    "print(\"The length of the hypotenuse is\", hypotenuse)"
   ]
  },
  {
   "cell_type": "markdown",
   "metadata": {},
   "source": [
    "#2.Explicit is better than implicit\n",
    "\n"
   ]
  },
  {
   "cell_type": "code",
   "execution_count": 4,
   "metadata": {
    "ExecuteTime": {
     "end_time": "2022-12-12T13:31:59.116455Z",
     "start_time": "2022-12-12T13:31:59.096970Z"
    }
   },
   "outputs": [
    {
     "ename": "ModuleNotFoundError",
     "evalue": "No module named 'fruit'",
     "output_type": "error",
     "traceback": [
      "\u001b[0;31m---------------------------------------------------------------------------\u001b[0m",
      "\u001b[0;31mModuleNotFoundError\u001b[0m                       Traceback (most recent call last)",
      "\u001b[0;32m<ipython-input-4-b916a9e51d2f>\u001b[0m in \u001b[0;36m<module>\u001b[0;34m\u001b[0m\n\u001b[1;32m      1\u001b[0m \u001b[0;31m# Example:\u001b[0m\u001b[0;34m\u001b[0m\u001b[0;34m\u001b[0m\u001b[0;34m\u001b[0m\u001b[0m\n\u001b[1;32m      2\u001b[0m \u001b[0;31m#Import apples and bananas from the fruit.py module.\u001b[0m\u001b[0;34m\u001b[0m\u001b[0;34m\u001b[0m\u001b[0;34m\u001b[0m\u001b[0m\n\u001b[0;32m----> 3\u001b[0;31m \u001b[0;32mfrom\u001b[0m \u001b[0mfruit\u001b[0m \u001b[0;32mimport\u001b[0m \u001b[0mapples\u001b[0m\u001b[0;34m,\u001b[0m \u001b[0mbananas\u001b[0m\u001b[0;34m\u001b[0m\u001b[0;34m\u001b[0m\u001b[0m\n\u001b[0m\u001b[1;32m      4\u001b[0m \u001b[0;34m\u001b[0m\u001b[0m\n\u001b[1;32m      5\u001b[0m \u001b[0mapples\u001b[0m\u001b[0;34m(\u001b[0m\u001b[0mquantity\u001b[0m\u001b[0;34m=\u001b[0m\u001b[0;36m2\u001b[0m\u001b[0;34m,\u001b[0m \u001b[0mprice\u001b[0m\u001b[0;34m=\u001b[0m\u001b[0;36m3.45\u001b[0m\u001b[0;34m)\u001b[0m\u001b[0;34m\u001b[0m\u001b[0;34m\u001b[0m\u001b[0m\n",
      "\u001b[0;31mModuleNotFoundError\u001b[0m: No module named 'fruit'"
     ]
    }
   ],
   "source": [
    "# Example: \n",
    "#Import apples and bananas from the fruit.py module.\n",
    "from fruit import apples, bananas\n",
    "\n",
    "apples(quantity=2, price=3.45)\n"
   ]
  },
  {
   "cell_type": "markdown",
   "metadata": {},
   "source": [
    "#Simple is better than complex\n",
    "Example: Sort the numbers list in ascending order."
   ]
  },
  {
   "cell_type": "code",
   "execution_count": 6,
   "metadata": {
    "ExecuteTime": {
     "end_time": "2022-12-12T13:37:35.573514Z",
     "start_time": "2022-12-12T13:37:35.563360Z"
    }
   },
   "outputs": [
    {
     "name": "stdout",
     "output_type": "stream",
     "text": [
      "[-5, -1, 0, 1, 7, 12, 15, 21]\n"
     ]
    }
   ],
   "source": [
    "#complex\n",
    "import heapq\n",
    "\n",
    "numbers = [-1, 12, -5, 0, 7, 21, 15, 1]\n",
    "heapq.heapify(numbers)\n",
    "\n",
    "sorted_numbers = []\n",
    "\n",
    "while numbers:\n",
    "    sorted_numbers.append(heapq.heappop(numbers))\n",
    "\n",
    "print(sorted_numbers)"
   ]
  },
  {
   "cell_type": "code",
   "execution_count": 7,
   "metadata": {
    "ExecuteTime": {
     "end_time": "2022-12-12T13:37:54.753641Z",
     "start_time": "2022-12-12T13:37:54.746726Z"
    }
   },
   "outputs": [
    {
     "name": "stdout",
     "output_type": "stream",
     "text": [
      "[-5, -1, 0, 1, 7, 12, 15, 21]\n"
     ]
    }
   ],
   "source": [
    "#simple\n",
    "numbers = [-1, 12, -5, 0, 7, 21, 15, 1]\n",
    "numbers.sort()\n",
    "\n",
    "print(numbers)"
   ]
  },
  {
   "cell_type": "markdown",
   "metadata": {},
   "source": [
    "#Complex is better than complicated\n",
    "example\n",
    "Perform five additions of two numbers."
   ]
  },
  {
   "cell_type": "code",
   "execution_count": 8,
   "metadata": {
    "ExecuteTime": {
     "end_time": "2022-12-12T13:40:56.516539Z",
     "start_time": "2022-12-12T13:40:28.411371Z"
    }
   },
   "outputs": [
    {
     "name": "stdout",
     "output_type": "stream",
     "text": [
      "Enter the first number: 2\n",
      "Enter the second number: 3\n",
      "2 + 3 = 5\n",
      "Enter the first number: 5\n",
      "Enter the second number: 6\n",
      "5 + 6 = 11\n",
      "Enter the first number: 7\n",
      "Enter the second number: 8\n",
      "7 + 8 = 15\n",
      "Enter the first number: 9\n",
      "Enter the second number: 9\n",
      "9 + 9 = 18\n",
      "Enter the first number: 7\n",
      "Enter the second number: 6\n",
      "7 + 6 = 13\n"
     ]
    }
   ],
   "source": [
    "#complicated\n",
    "first_number = int(input(\"Enter the first number: \"))\n",
    "second_number = int(input(\"Enter the second number: \"))\n",
    "addition_result = first_number + second_number\n",
    "print(first_number, \"+\", second_number, \"=\", addition_result)\n",
    "first_number = int(input(\"Enter the first number: \"))\n",
    "second_number = int(input(\"Enter the second number: \"))\n",
    "addition_result = first_number + second_number\n",
    "print(first_number, \"+\", second_number, \"=\", addition_result)\n",
    "first_number = int(input(\"Enter the first number: \"))\n",
    "second_number = int(input(\"Enter the second number: \"))\n",
    "addition_result = first_number + second_number\n",
    "print(first_number, \"+\", second_number, \"=\", addition_result)\n",
    "first_number = int(input(\"Enter the first number: \"))\n",
    "second_number = int(input(\"Enter the second number: \"))\n",
    "addition_result = first_number + second_number\n",
    "print(first_number, \"+\", second_number, \"=\", addition_result)\n",
    "first_number = int(input(\"Enter the first number: \"))\n",
    "second_number = int(input(\"Enter the second number: \"))\n",
    "addition_result = first_number + second_number\n",
    "print(first_number, \"+\", second_number, \"=\", addition_result)\n"
   ]
  },
  {
   "cell_type": "code",
   "execution_count": 10,
   "metadata": {
    "ExecuteTime": {
     "end_time": "2022-12-12T13:53:06.827808Z",
     "start_time": "2022-12-12T13:52:54.160218Z"
    }
   },
   "outputs": [
    {
     "name": "stdout",
     "output_type": "stream",
     "text": [
      "Enter the first number: 3\n",
      "Enter the second number: 4\n",
      "3 + 4 = 7\n",
      "Enter the first number: 5\n",
      "Enter the second number: 6\n",
      "5 + 6 = 11\n",
      "Enter the first number: 8\n",
      "Enter the second number: 9\n",
      "8 + 9 = 17\n",
      "Enter the first number: 9\n",
      "Enter the second number: 8\n",
      "9 + 8 = 17\n",
      "Enter the first number: 5\n",
      "Enter the second number: 4\n",
      "5 + 4 = 9\n"
     ]
    }
   ],
   "source": [
    "# complex\n",
    "\n",
    "def addition(x, y):\n",
    "    print(x, \"+\", y, \"=\", x+y)\n",
    "\n",
    "for i in range(5):\n",
    "    first_number = int(input(\"Enter the first number: \"))\n",
    "    second_number = int(input(\"Enter the second number: \"))\n",
    "    addition(first_number, second_number)"
   ]
  },
  {
   "cell_type": "markdown",
   "metadata": {},
   "source": [
    "#Flat is better than nested\n",
    "\n",
    "Example: Display a message whether or not x is within the range from 4 to 6."
   ]
  },
  {
   "cell_type": "code",
   "execution_count": 11,
   "metadata": {
    "ExecuteTime": {
     "end_time": "2022-12-12T13:53:55.691063Z",
     "start_time": "2022-12-12T13:53:53.758858Z"
    }
   },
   "outputs": [
    {
     "name": "stdout",
     "output_type": "stream",
     "text": [
      "Enter a number: 5\n",
      "x is a number between 4 and 6.\n"
     ]
    }
   ],
   "source": [
    "# flat\n",
    "x = float(input(\"Enter a number: \"))\n",
    "\n",
    "if x > 0:\n",
    "    if x > 1:\n",
    "        if x > 2:\n",
    "            if x > 3:\n",
    "                if x >= 4:\n",
    "                    if x <= 6:\n",
    "                        print(\"x is a number between 4 and 6.\")\n",
    "else:\n",
    "    print(\"x is not a number between 4 and 6.\")"
   ]
  },
  {
   "cell_type": "code",
   "execution_count": 12,
   "metadata": {
    "ExecuteTime": {
     "end_time": "2022-12-12T13:54:18.220839Z",
     "start_time": "2022-12-12T13:54:16.650799Z"
    }
   },
   "outputs": [
    {
     "name": "stdout",
     "output_type": "stream",
     "text": [
      "Enter a number: 5\n",
      "x is a number between 4 and 6.\n"
     ]
    }
   ],
   "source": [
    "#nested\n",
    "x = float(input(\"Enter a number: \"))\n",
    "\n",
    "if x >= 4 and x <=6:\n",
    "    print(\"x is a number between 4 and 6.\")\n",
    "else:\n",
    "    print(\"x is not a number between 4 and 6.\")"
   ]
  },
  {
   "cell_type": "markdown",
   "metadata": {},
   "source": [
    "#Sparse is better than dense\n",
    "Don’t write too much code in one line, don’t fit too much information into a small amount of code, don’t write lines of code that are too long, use whitespaces responsibly – this all affects the readability and understanding of your program.\n",
    "\n",
    " \n",
    " Example: Print the message “Hello, World!” if the value passed to the x variable equals 1.\n"
   ]
  },
  {
   "cell_type": "code",
   "execution_count": null,
   "metadata": {},
   "outputs": [],
   "source": [
    "#sparse\n",
    "x = 1\n",
    "if x == 1 : print(\"Hello, World!\")\n",
    "# not do like this"
   ]
  },
  {
   "cell_type": "code",
   "execution_count": 13,
   "metadata": {
    "ExecuteTime": {
     "end_time": "2022-12-12T13:58:26.554598Z",
     "start_time": "2022-12-12T13:58:26.548336Z"
    }
   },
   "outputs": [
    {
     "name": "stdout",
     "output_type": "stream",
     "text": [
      "Hello, World!\n"
     ]
    }
   ],
   "source": [
    "#dense\n",
    "x = 1\n",
    "if x == 1:\n",
    "    print(\"Hello, World!\")"
   ]
  },
  {
   "cell_type": "markdown",
   "metadata": {},
   "source": [
    "#Readability counts\n",
    "Giving meaningful names to variables, functions, modules, and classes; properly styling blocks of code; using comments where necessary; keeping your code neat and elegant – these all contribute to how readable and user-friendly your code is.\n",
    "\n",
    "\n",
    "Example: Write a program that calculates a product’s gross price."
   ]
  },
  {
   "cell_type": "code",
   "execution_count": 30,
   "metadata": {
    "ExecuteTime": {
     "end_time": "2022-12-12T14:08:49.218012Z",
     "start_time": "2022-12-12T14:08:49.209980Z"
    }
   },
   "outputs": [
    {
     "data": {
      "text/plain": [
       "1.08"
      ]
     },
     "execution_count": 30,
     "metadata": {},
     "output_type": "execute_result"
    }
   ],
   "source": [
    "#no readability\n",
    "def f(i):\n",
    "    l = i + (0.08 * i)\n",
    "    return l\n",
    "\n",
    "f(1)"
   ]
  },
  {
   "cell_type": "code",
   "execution_count": 32,
   "metadata": {
    "ExecuteTime": {
     "end_time": "2022-12-12T14:09:45.036896Z",
     "start_time": "2022-12-12T14:09:45.028803Z"
    }
   },
   "outputs": [
    {
     "data": {
      "text/plain": [
       "1.08"
      ]
     },
     "execution_count": 32,
     "metadata": {},
     "output_type": "execute_result"
    }
   ],
   "source": [
    "\n",
    "# Calculates the gross price of products in Wonderland.\n",
    "\n",
    "def calculate_gross_price(net_price):\n",
    "    gross_price = net_price + (0.08 * net_price)\n",
    "    return gross_price\n",
    "calculate_gross_price(1)"
   ]
  },
  {
   "cell_type": "markdown",
   "metadata": {},
   "source": [
    "\n",
    "#Special cases aren't special enough to break the rules...\n",
    "Discipline, consistency, and compliance with standards and conventions are all important elements in professional and responsible code development. There should be no exceptions that allow us to break the principles governing best coding practices"
   ]
  },
  {
   "cell_type": "markdown",
   "metadata": {},
   "source": [
    "Example: Write a function that multiplies two numbers and a function that adds two numbers."
   ]
  },
  {
   "cell_type": "code",
   "execution_count": 34,
   "metadata": {
    "ExecuteTime": {
     "end_time": "2022-12-12T14:23:54.352464Z",
     "start_time": "2022-12-12T14:23:54.343966Z"
    }
   },
   "outputs": [
    {
     "name": "stdout",
     "output_type": "stream",
     "text": [
      "63\n",
      "16\n"
     ]
    }
   ],
   "source": [
    "def multiply_two_numbers(first_number, second_number):\n",
    "    return first_number * second_number\n",
    "\n",
    "print(multiply_two_numbers(7, 9))\n",
    "\n",
    "#note:def addTtwoNumbers(first_number, second_number):NOT doing like this\n",
    "def add_two_numbers(first_number, second_number):\n",
    "    return first_number + second_number\n",
    "\n",
    "print(add_two_numbers(7, 9))\n"
   ]
  },
  {
   "cell_type": "code",
   "execution_count": null,
   "metadata": {},
   "outputs": [],
   "source": [
    "#Default encodings\n",
    " MUST use ASCII-only identifiers, and SHOULD use English words whenever feasible\".\n"
   ]
  },
  {
   "cell_type": "markdown",
   "metadata": {},
   "source": [
    "# Imports\n",
    "You should always put imports at the beginning of your script, between module comments/docstrings and module globals and constants, respecting the following order:\n",
    "\n",
    "Standard library imports;\n",
    "Related third-party imports;\n",
    "Local application/library specific imports"
   ]
  },
  {
   "cell_type": "markdown",
   "metadata": {},
   "source": [
    "# Bad:\n",
    "\n",
    "import sys, os\n",
    "\n",
    "# Good:\n",
    "\n",
    "import os\n",
    "import sys\n",
    "\n",
    "from subprocess import Popen, PIPE\n",
    "import animals.mammals.dogs.puppies\n"
   ]
  },
  {
   "cell_type": "code",
   "execution_count": null,
   "metadata": {},
   "outputs": [],
   "source": [
    "#Whitespace in expressions and statements\n",
    "So, for example, do not use excessive whitespace immediately inside parentheses/brackets/braces, or immediately before a comma/semicolon/colon:\n",
    "\n",
    "# Bad:\n",
    "\n",
    "my_list = ( dog[ 2 ] , 5 , { \"year\": 1980 } , \"string\" )\n",
    "if 5 in my_list : print( \"Hello!\" ) ; print( \"Goodbye!\" )\n",
    "    \n",
    "\n",
    "#Good:\n",
    "\n",
    "my_list = (dog[2], 5, {\"year\": 1980}, \"string\")\n",
    "if 5 in my_list: print(\"Hello!\"); print(\"Goodbye!\")\n",
    "    \n",
    "\n",
    "    \n",
    "    \n",
    "# Bad:\n",
    "\n",
    "bread[0 : 3], roll[1: 3 :5], bun[3: 5:], donut[ 1: :5 ]\n",
    "\n",
    "\n",
    "# Good:\n",
    "\n",
    "bread[0:3], roll[1:3:5], bun[3:5:], donut[1::5]\n",
    "\n",
    "\n",
    "\n",
    "\n",
    "# Bad:\n",
    "\n",
    "my_tuple = (0, 1, 2, )\n",
    "my_function (5)\n",
    "my_dictionary ['key'] = my_list [index]\n",
    "\n",
    "\n",
    "\n",
    "# Good:\n",
    "\n",
    "my_tuple = (0, 1, 2,)\n",
    "my_function(5)\n",
    "my_dictionary['key'] = my_list[index]\n",
    "\n",
    "\n",
    "# Bad:\n",
    "\n",
    "a         = 1\n",
    "b         = a        + 2\n",
    "my_string = 'string' * 2\n",
    "\n",
    "\n",
    "# Good:\n",
    "\n",
    "a = 1\n",
    "b = a + 2\n",
    "my_string = 'string' * 2\n",
    "\n",
    "\n",
    "\n",
    "\n",
    "Don’t surround the = operator with spaces if it’s used to indicate a keyword argument/default value, e.g.:\n",
    "\n",
    "# Bad:\n",
    "\n",
    "def my_function(x, y = 2):\n",
    "    return x * y\n",
    "\n",
    "\n",
    "\n",
    "# Good:\n",
    "\n",
    "def my_function(x, y=2):\n",
    "    return x * y\n",
    "\n",
    "\n"
   ]
  },
  {
   "cell_type": "code",
   "execution_count": null,
   "metadata": {},
   "outputs": [],
   "source": [
    "#Programming recommendations\n",
    "make comparisons to the None object with the use of is or is not, not with the (in)equality operators (== and !=)"
   ]
  },
  {
   "cell_type": "code",
   "execution_count": null,
   "metadata": {},
   "outputs": [],
   "source": [
    "# Bad:\n",
    "\n",
    "if x == None:\n",
    "    print(\"A\")\n",
    "\n",
    "\n",
    "# Good:\n",
    "\n",
    "if x is None:\n",
    "    print(\"A\")\n",
    "\n",
    "\n",
    "do not use the (in)equality operators when comparing Boolean values to True or False. Again, use is or is not instead:\n",
    "\n",
    "# Bad:\n",
    "\n",
    "my_boolean_value = 2 > 1\n",
    "if my_boolean_value == True:\n",
    "    print(\"A\")\n",
    "else:\n",
    "    print(\"B\")\n",
    "\n",
    "\n",
    "\n",
    "# Good:\n",
    "\n",
    "my_boolean_value = 2 > 1\n",
    "if my_boolean_value is True:\n",
    "    print(\"A\")\n",
    "else:\n",
    "    print(\"B\")\n",
    "    \n",
    "    \n",
    "    \n",
    "    \n",
    "for readability purposes, use the is not operator instead of not … is:\n",
    "\n",
    "# Bad:\n",
    "\n",
    "if not x is None:\n",
    "    print(\"It exists\")\n",
    "\n",
    "\n",
    "\n",
    "# Good:\n",
    "\n",
    "if x is not None:\n",
    "    print(\"It exists\")\n"
   ]
  },
  {
   "cell_type": "code",
   "execution_count": null,
   "metadata": {},
   "outputs": [],
   "source": [
    "if name[:4] == 'Adam':\n",
    "if name.startswith('Adam'):"
   ]
  }
 ],
 "metadata": {
  "kernelspec": {
   "display_name": "Python 3",
   "language": "python",
   "name": "python3"
  },
  "language_info": {
   "codemirror_mode": {
    "name": "ipython",
    "version": 3
   },
   "file_extension": ".py",
   "mimetype": "text/x-python",
   "name": "python",
   "nbconvert_exporter": "python",
   "pygments_lexer": "ipython3",
   "version": "3.8.5"
  },
  "toc": {
   "base_numbering": 1,
   "nav_menu": {},
   "number_sections": false,
   "sideBar": true,
   "skip_h1_title": false,
   "title_cell": "Table of Contents",
   "title_sidebar": "Contents",
   "toc_cell": false,
   "toc_position": {},
   "toc_section_display": true,
   "toc_window_display": false
  }
 },
 "nbformat": 4,
 "nbformat_minor": 4
}
