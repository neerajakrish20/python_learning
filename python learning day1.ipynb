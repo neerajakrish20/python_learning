{
 "cells": [
  {
   "cell_type": "code",
   "execution_count": 1,
   "metadata": {
    "ExecuteTime": {
     "end_time": "2022-12-06T07:31:45.714602Z",
     "start_time": "2022-12-06T07:31:45.708451Z"
    }
   },
   "outputs": [
    {
     "name": "stdout",
     "output_type": "stream",
     "text": [
      "learning python\n"
     ]
    }
   ],
   "source": [
    "#single line print statement\n",
    "print('learning python')"
   ]
  },
  {
   "cell_type": "code",
   "execution_count": 70,
   "metadata": {
    "ExecuteTime": {
     "end_time": "2022-12-06T14:34:33.431357Z",
     "start_time": "2022-12-06T14:34:33.425509Z"
    }
   },
   "outputs": [
    {
     "name": "stdout",
     "output_type": "stream",
     "text": [
      "('banana', 'apple', 'mango')\n"
     ]
    }
   ],
   "source": [
    "# python variable \n",
    "fruits=\"banana\",\"apple\",\"mango\"\n",
    "print(fruits)"
   ]
  },
  {
   "cell_type": "code",
   "execution_count": 71,
   "metadata": {
    "ExecuteTime": {
     "end_time": "2022-12-06T14:37:54.292286Z",
     "start_time": "2022-12-06T14:37:54.285957Z"
    }
   },
   "outputs": [
    {
     "name": "stdout",
     "output_type": "stream",
     "text": [
      "neerajakrishnamoorthy\n"
     ]
    }
   ],
   "source": [
    "firstname='neeraja'\n",
    "lastname='krishnamoorthy'\n",
    "print(firstname+lastname)"
   ]
  },
  {
   "cell_type": "code",
   "execution_count": 73,
   "metadata": {
    "ExecuteTime": {
     "end_time": "2022-12-06T15:56:47.663687Z",
     "start_time": "2022-12-06T15:56:47.655883Z"
    }
   },
   "outputs": [
    {
     "name": "stdout",
     "output_type": "stream",
     "text": [
      "neeraja\n",
      "neeraja\n",
      "neeraja\n"
     ]
    }
   ],
   "source": [
    "#Variable Names\n",
    "#Three types 1.camelcase2.pascal case 3.snake case\n",
    "# 1.camel case(except the first, starts with a capital letter)\n",
    "myNameIs=\"neeraja\"\n",
    "print(myNameIs)\n",
    "#2.pascal case(Each word starts with a capital letter)\n",
    "MyNameIs=\"neeraja\"\n",
    "print(MyNameIs)\n",
    "#3.snake case(Each word is separated by an underscore character)\n",
    "My_Name_Is=\"neeraja\"\n",
    "print(My_Name_Is)"
   ]
  },
  {
   "cell_type": "code",
   "execution_count": null,
   "metadata": {
    "ExecuteTime": {
     "end_time": "2022-12-06T15:58:47.524366Z",
     "start_time": "2022-12-06T15:58:47.517701Z"
    }
   },
   "outputs": [],
   "source": [
    "#global variables\n",
    "x = 'neeraja'\n",
    "\n",
    "def myfunc():\n",
    "  print(\"My Name is \" + x)\n",
    "\n",
    "myfunc()"
   ]
  },
  {
   "cell_type": "code",
   "execution_count": null,
   "metadata": {},
   "outputs": [],
   "source": [
    "# data types\n",
    "\"\"\" Text Type:\tstr\n",
    "Numeric Types:\tint, float, complex\n",
    "Sequence Types:\tlist, tuple, range\n",
    "Mapping Type:\tdict\n",
    "Set Types:\tset, frozenset\n",
    "Boolean Type:\tbool\n",
    "Binary Types:\tbytes, bytearray, memoryview\n",
    "None Type:\tNoneType\"\"\""
   ]
  },
  {
   "cell_type": "code",
   "execution_count": 75,
   "metadata": {
    "ExecuteTime": {
     "end_time": "2022-12-06T16:07:09.808189Z",
     "start_time": "2022-12-06T16:07:09.789423Z"
    }
   },
   "outputs": [
    {
     "name": "stdout",
     "output_type": "stream",
     "text": [
      "Hello World\n",
      "20\n",
      "20.0\n",
      "1j\n",
      "['apple', 'banana', 'cherry']\n",
      "('apple', 'banana', 'cherry')\n",
      "range(0, 6)\n",
      "{'name': 'John', 'age': 36}\n",
      "{'banana', 'cherry', 'apple'}\n",
      "frozenset({'banana', 'cherry', 'apple'})\n",
      "True\n",
      "b'Hello'\n",
      "bytearray(b'\\x00\\x00\\x00\\x00\\x00')\n",
      "<memory at 0x7f4dacd79e80>\n",
      "None\n"
     ]
    }
   ],
   "source": [
    "x = \"Hello World\"#str\n",
    "print(x)\n",
    "x = 20 #int\n",
    "print(x)\n",
    "x = 20.0 #float\n",
    "print(x)\n",
    "x = 1j #complex\n",
    "print(x)\n",
    "x = [\"apple\", \"banana\", \"cherry\"]#list\n",
    "print(x)\n",
    "x = (\"apple\", \"banana\", \"cherry\")#tuple\n",
    "print(x)\n",
    "x = range(6) #range\n",
    "print(x)\n",
    "x = {\"name\" : \"neeraja\", \"age\" : 22} #dict\n",
    "print(x)\n",
    "x = {\"apple\", \"banana\", \"cherry\"}#set\n",
    "print(x)\n",
    "x = frozenset({\"apple\", \"banana\", \"cherry\"})#frozenset\n",
    "print(x)\n",
    "x = True #bool\n",
    "print(x)\n",
    "x = b\"Hello\" #bytes\n",
    "print(x)\n",
    "x = bytearray(5) #bytearray\n",
    "print(x)\n",
    "x = memoryview(bytes(5)) #memoryview\n",
    "print(x)\n",
    "x = None #NoneType\n",
    "print(x)\n"
   ]
  },
  {
   "cell_type": "code",
   "execution_count": 77,
   "metadata": {
    "ExecuteTime": {
     "end_time": "2022-12-06T16:14:25.132017Z",
     "start_time": "2022-12-06T16:14:25.124635Z"
    }
   },
   "outputs": [
    {
     "name": "stdout",
     "output_type": "stream",
     "text": [
      "1 28.0 3\n"
     ]
    }
   ],
   "source": [
    "#python casting\n",
    "x = str(1)     \n",
    "y = float(28)  \n",
    "z = int(\"3\") \n",
    "print(x,y,z)"
   ]
  },
  {
   "cell_type": "code",
   "execution_count": 83,
   "metadata": {
    "ExecuteTime": {
     "end_time": "2022-12-06T16:27:12.024726Z",
     "start_time": "2022-12-06T16:27:12.012773Z"
    }
   },
   "outputs": [
    {
     "name": "stdout",
     "output_type": "stream",
     "text": [
      "neeraja\n",
      "Iam neeraja \n",
      "e\n",
      "N\n",
      "e\n",
      "e\n",
      "r\n",
      "a\n",
      "j\n",
      "a\n",
      "13\n",
      "True\n"
     ]
    }
   ],
   "source": [
    "#strings\n",
    "a='neeraja'\n",
    "print(a)\n",
    "#Multiline Strings\n",
    "a='''Iam neeraja '''\n",
    "print(a)\n",
    "# stringsarrays\n",
    "a = \"Hello, World!\"\n",
    "print(a[1])\n",
    "#Looping Through a String\n",
    "for x in \"Neeraja\":\n",
    "  print(x)\n",
    "#String Length\n",
    "print(len(a))\n",
    "#Check String\n",
    "txt = \"The best things in life are free!\"\n",
    "print(\"free\" in txt)"
   ]
  },
  {
   "cell_type": "code",
   "execution_count": 88,
   "metadata": {
    "ExecuteTime": {
     "end_time": "2022-12-06T16:33:36.936565Z",
     "start_time": "2022-12-06T16:33:36.927693Z"
    }
   },
   "outputs": [
    {
     "name": "stdout",
     "output_type": "stream",
     "text": [
      "llo\n",
      "Hello\n",
      "llo, World!\n",
      "orl\n"
     ]
    }
   ],
   "source": [
    "#Slicing Strings\n",
    "b = \"Hello, World!\"\n",
    "print(b[2:5])\n",
    "#Slice From the Start\n",
    "print(b[:5])\n",
    "#Slice To the End\n",
    "print(b[2:])\n",
    "#Negative Indexing\n",
    "print(b[-5:-2])"
   ]
  },
  {
   "cell_type": "code",
   "execution_count": 91,
   "metadata": {
    "ExecuteTime": {
     "end_time": "2022-12-06T16:36:14.608335Z",
     "start_time": "2022-12-06T16:36:14.601038Z"
    }
   },
   "outputs": [
    {
     "name": "stdout",
     "output_type": "stream",
     "text": [
      "HELLO, WORLD!\n",
      "hello, world!\n",
      "Hello, World!\n"
     ]
    }
   ],
   "source": [
    "#Modify Strings\n",
    "a = \"Hello, World!\"\n",
    "print(a.upper())\n",
    "print(a.lower())\n",
    "print(a.strip())#The strip() method removes any whitespace from the beginning or the end\n",
    "#Replace String\n",
    "print(a.replace(\"H\", \"J\"))#replace() method replaces a string with another string\n",
    "#Split String\n",
    "print(a.split(\",\"))#The split() method splits the string into substrings "
   ]
  },
  {
   "cell_type": "code",
   "execution_count": 93,
   "metadata": {
    "ExecuteTime": {
     "end_time": "2022-12-06T16:40:29.380130Z",
     "start_time": "2022-12-06T16:40:29.372827Z"
    }
   },
   "outputs": [
    {
     "name": "stdout",
     "output_type": "stream",
     "text": [
      "HelloWorld\n",
      "Hello World\n"
     ]
    }
   ],
   "source": [
    "#String Concatenation\n",
    "a = \"Hello\"\n",
    "b = \"World\"\n",
    "c = a + b\n",
    "print(c)\n",
    "c = a + \" \" + b\n",
    "print(c)"
   ]
  },
  {
   "cell_type": "code",
   "execution_count": null,
   "metadata": {},
   "outputs": [],
   "source": []
  },
  {
   "cell_type": "code",
   "execution_count": 2,
   "metadata": {
    "ExecuteTime": {
     "end_time": "2022-12-06T07:33:38.962990Z",
     "start_time": "2022-12-06T07:33:38.956738Z"
    }
   },
   "outputs": [
    {
     "name": "stdout",
     "output_type": "stream",
     "text": [
      "learning\n",
      "python\n"
     ]
    }
   ],
   "source": [
    "#multiline print statement\n",
    "print('''learning\n",
    "python''')"
   ]
  },
  {
   "cell_type": "code",
   "execution_count": 4,
   "metadata": {
    "ExecuteTime": {
     "end_time": "2022-12-06T07:35:11.853085Z",
     "start_time": "2022-12-06T07:35:11.847512Z"
    }
   },
   "outputs": [
    {
     "name": "stdout",
     "output_type": "stream",
     "text": [
      "\u0007\n"
     ]
    }
   ],
   "source": [
    "#escape character :print their functionality\n",
    "print('\\a')"
   ]
  },
  {
   "cell_type": "code",
   "execution_count": 5,
   "metadata": {
    "ExecuteTime": {
     "end_time": "2022-12-06T07:37:22.555582Z",
     "start_time": "2022-12-06T07:37:22.548417Z"
    }
   },
   "outputs": [
    {
     "name": "stdout",
     "output_type": "stream",
     "text": [
      "python leaning\n",
      "python_leaning\n"
     ]
    }
   ],
   "source": [
    "# print seperation argument\n",
    "print('python','leaning')\n",
    "print('python','leaning',sep='_')"
   ]
  },
  {
   "cell_type": "code",
   "execution_count": 7,
   "metadata": {
    "ExecuteTime": {
     "end_time": "2022-12-06T07:41:28.942096Z",
     "start_time": "2022-12-06T07:41:28.934965Z"
    }
   },
   "outputs": [
    {
     "name": "stdout",
     "output_type": "stream",
     "text": [
      "python_leaning\thello world\n"
     ]
    }
   ],
   "source": [
    "# print end argument\n",
    "print('python','leaning',sep='_',end='\\t')\n",
    "print('hello','world')"
   ]
  },
  {
   "cell_type": "code",
   "execution_count": 9,
   "metadata": {
    "ExecuteTime": {
     "end_time": "2022-12-06T07:43:07.613182Z",
     "start_time": "2022-12-06T07:43:07.607549Z"
    }
   },
   "outputs": [
    {
     "name": "stdout",
     "output_type": "stream",
     "text": [
      "python leaningpython leaningpython leaning\n"
     ]
    }
   ],
   "source": [
    "#string replicate\n",
    "print('python leaning'*3)"
   ]
  },
  {
   "cell_type": "code",
   "execution_count": 10,
   "metadata": {
    "ExecuteTime": {
     "end_time": "2022-12-06T08:46:57.906893Z",
     "start_time": "2022-12-06T08:46:57.901245Z"
    }
   },
   "outputs": [
    {
     "name": "stdout",
     "output_type": "stream",
     "text": [
      "pythonleaning\n"
     ]
    }
   ],
   "source": [
    "#strig concadiation\n",
    "print('python'+'leaning')"
   ]
  },
  {
   "cell_type": "code",
   "execution_count": 15,
   "metadata": {
    "ExecuteTime": {
     "end_time": "2022-12-06T09:14:15.372931Z",
     "start_time": "2022-12-06T09:14:09.056606Z"
    }
   },
   "outputs": [
    {
     "name": "stdout",
     "output_type": "stream",
     "text": [
      "Enter the number:5\n",
      "Enter the number:3\n",
      "8\n"
     ]
    }
   ],
   "source": [
    "#operations\n",
    "a=int(input('Enter the number:'))\n",
    "b=int(input('Enter the number:'))\n",
    "print(a+b)"
   ]
  },
  {
   "cell_type": "code",
   "execution_count": 17,
   "metadata": {
    "ExecuteTime": {
     "end_time": "2022-12-06T09:15:18.365056Z",
     "start_time": "2022-12-06T09:15:10.947445Z"
    }
   },
   "outputs": [
    {
     "name": "stdout",
     "output_type": "stream",
     "text": [
      "Enter the number:6\n",
      "Enter the number:2\n",
      "3\n"
     ]
    }
   ],
   "source": [
    "#floor division\n",
    "a=int(input('Enter the number:'))\n",
    "b=int(input('Enter the number:'))\n",
    "print(a//b)"
   ]
  },
  {
   "cell_type": "code",
   "execution_count": 18,
   "metadata": {
    "ExecuteTime": {
     "end_time": "2022-12-06T09:16:39.227516Z",
     "start_time": "2022-12-06T09:16:32.935167Z"
    }
   },
   "outputs": [
    {
     "name": "stdout",
     "output_type": "stream",
     "text": [
      "Enter the number:6\n",
      "Enter the number:2\n",
      "0\n"
     ]
    }
   ],
   "source": [
    "a=int(input('Enter the number:'))\n",
    "b=int(input('Enter the number:'))\n",
    "print(a%b)"
   ]
  },
  {
   "cell_type": "code",
   "execution_count": 19,
   "metadata": {
    "ExecuteTime": {
     "end_time": "2022-12-06T09:17:54.060438Z",
     "start_time": "2022-12-06T09:17:54.049495Z"
    }
   },
   "outputs": [
    {
     "data": {
      "text/plain": [
       "False"
      ]
     },
     "execution_count": 19,
     "metadata": {},
     "output_type": "execute_result"
    }
   ],
   "source": [
    "#relational datatype\n",
    "3>10\n"
   ]
  },
  {
   "cell_type": "code",
   "execution_count": 21,
   "metadata": {
    "ExecuteTime": {
     "end_time": "2022-12-06T09:23:32.707643Z",
     "start_time": "2022-12-06T09:23:32.701745Z"
    }
   },
   "outputs": [
    {
     "name": "stdout",
     "output_type": "stream",
     "text": [
      "12\n"
     ]
    }
   ],
   "source": [
    "#argumented assignment operator\n",
    "a=10\n",
    "a+=2\n",
    "print(a)"
   ]
  },
  {
   "cell_type": "code",
   "execution_count": 22,
   "metadata": {
    "ExecuteTime": {
     "end_time": "2022-12-06T09:28:39.486295Z",
     "start_time": "2022-12-06T09:28:39.479218Z"
    }
   },
   "outputs": [
    {
     "name": "stdout",
     "output_type": "stream",
     "text": [
      "100000\n",
      "10\n"
     ]
    }
   ],
   "source": [
    "r=10\n",
    "x=r**5\n",
    "print(x)\n",
    "r%=x\n",
    "print(r)"
   ]
  },
  {
   "cell_type": "code",
   "execution_count": 24,
   "metadata": {
    "ExecuteTime": {
     "end_time": "2022-12-06T09:30:05.449734Z",
     "start_time": "2022-12-06T09:30:05.442708Z"
    }
   },
   "outputs": [
    {
     "data": {
      "text/plain": [
       "100000"
      ]
     },
     "execution_count": 24,
     "metadata": {},
     "output_type": "execute_result"
    }
   ],
   "source": [
    "10*10*10*10*10\n"
   ]
  },
  {
   "cell_type": "code",
   "execution_count": 26,
   "metadata": {
    "ExecuteTime": {
     "end_time": "2022-12-06T09:51:00.679826Z",
     "start_time": "2022-12-06T09:51:00.672090Z"
    }
   },
   "outputs": [
    {
     "name": "stdout",
     "output_type": "stream",
     "text": [
      "True\n",
      "False\n",
      "True\n",
      "False\n"
     ]
    }
   ],
   "source": [
    "#operators\n",
    "#and operator\n",
    "print('True' and 'True')\n",
    "print('True' and 'False')\n",
    "print('False' and 'True')\n",
    "print('False' and 'False')"
   ]
  },
  {
   "cell_type": "code",
   "execution_count": 27,
   "metadata": {
    "ExecuteTime": {
     "end_time": "2022-12-06T09:53:13.727637Z",
     "start_time": "2022-12-06T09:53:13.721748Z"
    }
   },
   "outputs": [
    {
     "name": "stdout",
     "output_type": "stream",
     "text": [
      "True\n"
     ]
    }
   ],
   "source": [
    "print('False' and 'True')"
   ]
  },
  {
   "cell_type": "code",
   "execution_count": 29,
   "metadata": {
    "ExecuteTime": {
     "end_time": "2022-12-06T09:56:22.653363Z",
     "start_time": "2022-12-06T09:56:22.645404Z"
    }
   },
   "outputs": [
    {
     "name": "stdout",
     "output_type": "stream",
     "text": [
      "True\n",
      "True\n",
      "False\n",
      "False\n"
     ]
    }
   ],
   "source": [
    "#OR\n",
    "print('True' or'True')\n",
    "print('True' or 'False')\n",
    "print('False' or 'True')\n",
    "print('False' or 'False')"
   ]
  },
  {
   "cell_type": "code",
   "execution_count": 31,
   "metadata": {
    "ExecuteTime": {
     "end_time": "2022-12-06T09:57:27.158978Z",
     "start_time": "2022-12-06T09:57:27.152877Z"
    }
   },
   "outputs": [
    {
     "name": "stdout",
     "output_type": "stream",
     "text": [
      "False\n"
     ]
    }
   ],
   "source": [
    "n=25\n",
    "print(n%24==0 or n%30==0)"
   ]
  },
  {
   "cell_type": "code",
   "execution_count": 32,
   "metadata": {
    "ExecuteTime": {
     "end_time": "2022-12-06T10:00:08.421685Z",
     "start_time": "2022-12-06T10:00:08.415681Z"
    }
   },
   "outputs": [
    {
     "name": "stdout",
     "output_type": "stream",
     "text": [
      "True\n"
     ]
    }
   ],
   "source": [
    "if 10>5:\n",
    "    print(True)"
   ]
  },
  {
   "cell_type": "code",
   "execution_count": 34,
   "metadata": {
    "ExecuteTime": {
     "end_time": "2022-12-06T10:02:45.000689Z",
     "start_time": "2022-12-06T10:02:44.994323Z"
    }
   },
   "outputs": [
    {
     "name": "stdout",
     "output_type": "stream",
     "text": [
      "True\n"
     ]
    }
   ],
   "source": [
    "if(10>5)and(2>1):\n",
    "    print('True')"
   ]
  },
  {
   "cell_type": "code",
   "execution_count": 35,
   "metadata": {
    "ExecuteTime": {
     "end_time": "2022-12-06T10:08:45.855296Z",
     "start_time": "2022-12-06T10:08:45.849589Z"
    }
   },
   "outputs": [],
   "source": [
    "def fact(n):\n",
    "    if n==1:\n",
    "        return n\n",
    "    else:\n",
    "        return n*fact(n-1)"
   ]
  },
  {
   "cell_type": "code",
   "execution_count": 38,
   "metadata": {
    "ExecuteTime": {
     "end_time": "2022-12-06T10:09:43.692588Z",
     "start_time": "2022-12-06T10:09:43.687058Z"
    }
   },
   "outputs": [
    {
     "name": "stdout",
     "output_type": "stream",
     "text": [
      "25\n"
     ]
    }
   ],
   "source": [
    "print(n)"
   ]
  },
  {
   "cell_type": "code",
   "execution_count": 40,
   "metadata": {
    "ExecuteTime": {
     "end_time": "2022-12-06T10:34:07.104575Z",
     "start_time": "2022-12-06T10:34:07.097508Z"
    }
   },
   "outputs": [
    {
     "name": "stdout",
     "output_type": "stream",
     "text": [
      "0\n",
      "2\n",
      "4\n",
      "6\n",
      "8\n"
     ]
    }
   ],
   "source": [
    "for i in range(0,10,2):\n",
    "    print(i)\n"
   ]
  },
  {
   "cell_type": "code",
   "execution_count": 44,
   "metadata": {
    "ExecuteTime": {
     "end_time": "2022-12-06T10:38:33.654446Z",
     "start_time": "2022-12-06T10:38:33.646007Z"
    }
   },
   "outputs": [
    {
     "name": "stdout",
     "output_type": "stream",
     "text": [
      "0\n",
      "1\n",
      "2\n",
      "3\n",
      "4\n",
      "6\n",
      "7\n",
      "8\n",
      "9\n"
     ]
    }
   ],
   "source": [
    "for i in range (0,10):\n",
    "    if i==5:\n",
    "        continue\n",
    "    print(i)"
   ]
  },
  {
   "cell_type": "code",
   "execution_count": 45,
   "metadata": {
    "ExecuteTime": {
     "end_time": "2022-12-06T10:40:11.643686Z",
     "start_time": "2022-12-06T10:40:11.636173Z"
    }
   },
   "outputs": [
    {
     "name": "stdout",
     "output_type": "stream",
     "text": [
      "0\n",
      "1\n",
      "2\n",
      "3\n",
      "4\n"
     ]
    }
   ],
   "source": [
    "for i in range (0,10):\n",
    "    if i==5:\n",
    "        break\n",
    "    print(i)"
   ]
  },
  {
   "cell_type": "code",
   "execution_count": 46,
   "metadata": {
    "ExecuteTime": {
     "end_time": "2022-12-06T10:44:09.890342Z",
     "start_time": "2022-12-06T10:44:09.883064Z"
    }
   },
   "outputs": [
    {
     "name": "stdout",
     "output_type": "stream",
     "text": [
      "40\n"
     ]
    }
   ],
   "source": [
    "l=[10.30,40,60]\n",
    "for i in l:\n",
    "    if i==40:\n",
    "        break\n",
    "    else:\n",
    "        print('40')"
   ]
  },
  {
   "cell_type": "code",
   "execution_count": 49,
   "metadata": {
    "ExecuteTime": {
     "end_time": "2022-12-06T10:51:05.970034Z",
     "start_time": "2022-12-06T10:51:05.963103Z"
    }
   },
   "outputs": [
    {
     "name": "stdout",
     "output_type": "stream",
     "text": [
      "1\n",
      "3\n"
     ]
    }
   ],
   "source": [
    "#list(mutability,indexing)\n",
    "list=[1,2,3]\n",
    "print(list[0])\n",
    "print(list[-1])"
   ]
  },
  {
   "cell_type": "code",
   "execution_count": 50,
   "metadata": {
    "ExecuteTime": {
     "end_time": "2022-12-06T11:06:50.638540Z",
     "start_time": "2022-12-06T11:06:50.630876Z"
    }
   },
   "outputs": [
    {
     "name": "stdout",
     "output_type": "stream",
     "text": [
      "False\n",
      "90\n"
     ]
    }
   ],
   "source": [
    "lst=[10,30,40,60]\n",
    "print((10*2)in lst)\n",
    "print(lst[-1]+lst[1])"
   ]
  },
  {
   "cell_type": "code",
   "execution_count": 58,
   "metadata": {
    "ExecuteTime": {
     "end_time": "2022-12-06T11:13:16.236535Z",
     "start_time": "2022-12-06T11:13:16.224681Z"
    }
   },
   "outputs": [
    {
     "name": "stdout",
     "output_type": "stream",
     "text": [
      "4\n",
      "60\n",
      "10\n",
      "[10, 30, 40, 60, 4]\n",
      "[4, 10, 30, 40, 60, 4]\n",
      "[4, 10, 30, 40, 60, 4, 4, 5, 6]\n",
      "[4, 10, 30, 40, 60, 4, 4, 6]\n"
     ]
    }
   ],
   "source": [
    "lst=[10,30,40,60]\n",
    "print(len(lst))\n",
    "print(max(lst))\n",
    "print(min(lst))\n",
    "lst.append(4)\n",
    "print(lst)\n",
    "lst.insert(0,4)\n",
    "print(lst)\n",
    "lst.extend([4,5,6])\n",
    "print(lst)\n",
    "lst.remove(5)\n",
    "print(lst)"
   ]
  },
  {
   "cell_type": "code",
   "execution_count": 62,
   "metadata": {
    "ExecuteTime": {
     "end_time": "2022-12-06T11:50:28.275943Z",
     "start_time": "2022-12-06T11:50:28.267170Z"
    }
   },
   "outputs": [
    {
     "data": {
      "text/plain": [
       "[4, 3, 2, 1]"
      ]
     },
     "execution_count": 62,
     "metadata": {},
     "output_type": "execute_result"
    }
   ],
   "source": [
    "lst=[1,2,3,4]\n",
    "lst.sort()\n",
    "lst\n",
    "lst.sort(reverse=True)\n",
    "lst"
   ]
  },
  {
   "cell_type": "code",
   "execution_count": 63,
   "metadata": {
    "ExecuteTime": {
     "end_time": "2022-12-06T12:00:44.935940Z",
     "start_time": "2022-12-06T12:00:44.929859Z"
    }
   },
   "outputs": [
    {
     "name": "stdout",
     "output_type": "stream",
     "text": [
      "(1, 2, 3)\n"
     ]
    }
   ],
   "source": [
    "#tuple immutable not changing the value\n",
    "tup=(1,2,3)\n",
    "print(tup)"
   ]
  },
  {
   "cell_type": "code",
   "execution_count": 65,
   "metadata": {
    "ExecuteTime": {
     "end_time": "2022-12-06T12:02:17.825543Z",
     "start_time": "2022-12-06T12:02:17.818885Z"
    }
   },
   "outputs": [
    {
     "data": {
      "text/plain": [
       "(1,)"
      ]
     },
     "execution_count": 65,
     "metadata": {},
     "output_type": "execute_result"
    }
   ],
   "source": [
    "#single element\n",
    "tup=(1,)\n",
    "tup"
   ]
  },
  {
   "cell_type": "code",
   "execution_count": 94,
   "metadata": {
    "ExecuteTime": {
     "end_time": "2022-12-06T16:44:20.489536Z",
     "start_time": "2022-12-06T16:44:20.482103Z"
    }
   },
   "outputs": [
    {
     "data": {
      "text/plain": [
       "(1, 2, 3)"
      ]
     },
     "execution_count": 94,
     "metadata": {},
     "output_type": "execute_result"
    }
   ],
   "source": [
    "tup=(1,2,3)\n",
    "tup\n"
   ]
  },
  {
   "cell_type": "code",
   "execution_count": 95,
   "metadata": {
    "ExecuteTime": {
     "end_time": "2022-12-06T16:46:42.496370Z",
     "start_time": "2022-12-06T16:46:42.489663Z"
    }
   },
   "outputs": [
    {
     "name": "stdout",
     "output_type": "stream",
     "text": [
      "{'name': 'neeraja', 'age': '22', 'year': 2000}\n"
     ]
    }
   ],
   "source": [
    "dict = {\n",
    "  \"name\": \"neeraja\",\n",
    "  \"age\": \"22\",\n",
    "  \"year\": 2000\n",
    "}\n",
    "print(dict)"
   ]
  },
  {
   "cell_type": "code",
   "execution_count": null,
   "metadata": {},
   "outputs": [],
   "source": []
  }
 ],
 "metadata": {
  "kernelspec": {
   "display_name": "Python 3",
   "language": "python",
   "name": "python3"
  },
  "language_info": {
   "codemirror_mode": {
    "name": "ipython",
    "version": 3
   },
   "file_extension": ".py",
   "mimetype": "text/x-python",
   "name": "python",
   "nbconvert_exporter": "python",
   "pygments_lexer": "ipython3",
   "version": "3.8.5"
  },
  "toc": {
   "base_numbering": 1,
   "nav_menu": {},
   "number_sections": false,
   "sideBar": true,
   "skip_h1_title": false,
   "title_cell": "Table of Contents",
   "title_sidebar": "Contents",
   "toc_cell": false,
   "toc_position": {},
   "toc_section_display": true,
   "toc_window_display": false
  }
 },
 "nbformat": 4,
 "nbformat_minor": 4
}
