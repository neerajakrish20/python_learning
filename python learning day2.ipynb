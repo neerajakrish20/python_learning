{
 "cells": [
  {
   "cell_type": "markdown",
   "metadata": {},
   "source": [
    "use the print() function to print the line Hello, Python! to the screen. Use double quotes around the string;\n",
    "having done that, use the print() function again, but this time print your first name;"
   ]
  },
  {
   "cell_type": "code",
   "execution_count": 2,
   "metadata": {
    "ExecuteTime": {
     "end_time": "2022-12-07T10:01:56.678805Z",
     "start_time": "2022-12-07T10:01:56.672776Z"
    }
   },
   "outputs": [
    {
     "name": "stdout",
     "output_type": "stream",
     "text": [
      "Hello, Python!\n",
      "neeraja\n"
     ]
    }
   ],
   "source": [
    "print(\"Hello, Python!\")\n",
    "print(\"neeraja\")"
   ]
  },
  {
   "cell_type": "markdown",
   "metadata": {},
   "source": [
    "Objectives:\n",
    "becoming familiar with the print() function and its formatting capabilities;\n",
    "experimenting with Python code.\n",
    "Scenario\n",
    "Modify the first line of code in the editor, using the sep and end keywords, to match the expected output. Use the two print() functions in the editor.\n",
    "\n",
    "Don't change anything in the second print() invocation.\n",
    "\n",
    "Expected output\n",
    "Programming***Essentials***in...Python"
   ]
  },
  {
   "cell_type": "code",
   "execution_count": 3,
   "metadata": {
    "ExecuteTime": {
     "end_time": "2022-12-07T10:03:54.664161Z",
     "start_time": "2022-12-07T10:03:54.657381Z"
    }
   },
   "outputs": [
    {
     "name": "stdout",
     "output_type": "stream",
     "text": [
      "Programming***Essentials***in...Python\n"
     ]
    }
   ],
   "source": [
    "print(\"Programming\",\"Essentials\",\"in\",sep='***',end='...')\n",
    "print(\"Python\")"
   ]
  },
  {
   "cell_type": "markdown",
   "metadata": {},
   "source": [
    "Objectives\n",
    "experimenting with existing Python code;\n",
    "discovering and fixing basic syntax errors;\n",
    "becoming familiar with the print() function and its formatting capabilities.\n",
    "Scenario\n",
    "We strongly encourage you to play with the code we've written for you, and make some (maybe even destructive) amendments. Feel free to modify any part of the code, but there is one condition - learn from your mistakes and draw your own conclusions.\n",
    "\n",
    "Try to:\n",
    "\n",
    "minimize the number of print() function invocations by inserting the \\n sequence into the strings\n",
    "make the arrow twice as large (but keep the proportions)\n",
    "duplicate the arrow, placing both arrows side by side; note: a string may be multiplied by using the following trick: \"string\" * 2 will produce \"stringstring\" (we'll tell you more about it soon)\n",
    "remove any of the quotes, and look carefully at Python's response; pay attention to where Python sees an error - is this the place where the error really exists?\n",
    "do the same with some of the parentheses;\n",
    "change any of the print words into something else, differing only in case (e.g., Print) - what happens now?\n",
    "replace some of the quotes with apostrophes; watch what happens carefully.\n",
    "\n",
    "print(\"    *\")\n",
    "print(\"   * *\")\n",
    "print(\"  *   *\")\n",
    "print(\" *     *\")\n",
    "print(\"***   ***\")\n",
    "print(\"  *   *\")\n",
    "print(\"  *   *\")\n",
    "print(\"  *****\")\n"
   ]
  },
  {
   "cell_type": "code",
   "execution_count": 8,
   "metadata": {
    "ExecuteTime": {
     "end_time": "2022-12-07T10:13:46.718457Z",
     "start_time": "2022-12-07T10:13:46.712789Z"
    }
   },
   "outputs": [
    {
     "name": "stdout",
     "output_type": "stream",
     "text": [
      "    * \n",
      "   * *\n",
      " *   * \n",
      " *     *\n",
      "***   ***\n",
      "  *   *\n",
      "  *   *\n",
      "  *****\n"
     ]
    }
   ],
   "source": [
    "print(\"    * \\n   * *\\n *   * \\n *     *\\n***   ***\\n  *   *\\n  *   *\\n  *****\")"
   ]
  },
  {
   "cell_type": "markdown",
   "metadata": {},
   "source": [
    "If an integer number is preceded by an 0O or 0o prefix (zero-o), it will be treated as an octal value. This means that the number must contain digits taken from the [0..7] range only.\n",
    "\n",
    "0o123 is an octal number with a (decimal) value equal to 83.\n",
    "\n",
    "The print() function does the conversion automatically. Try this:\n",
    "\n",
    "print(0o123)\n",
    "\n",
    "\n",
    "The second convention allows us to use hexadecimal numbers. Such numbers should be preceded by the prefix 0x or 0X (zero-x).\n",
    "\n",
    "0x123 is a hexadecimal number with a (decimal) value equal to 291. The print() function can manage these values too. Try this:\n",
    "\n",
    "print(0x123)"
   ]
  },
  {
   "cell_type": "code",
   "execution_count": 9,
   "metadata": {
    "ExecuteTime": {
     "end_time": "2022-12-07T10:51:06.477698Z",
     "start_time": "2022-12-07T10:51:06.472238Z"
    }
   },
   "outputs": [
    {
     "name": "stdout",
     "output_type": "stream",
     "text": [
      "83\n",
      "291\n"
     ]
    }
   ],
   "source": [
    "print(0o123)\n",
    "print(0x123)"
   ]
  },
  {
   "cell_type": "markdown",
   "metadata": {},
   "source": [
    "how do you embed an apostrophe into a string placed between apostrophes?\n",
    "\n",
    "You should already know the answer, or to be precise, two possible answers.\n",
    "\n",
    "Try to print out a string containing the following message:\n",
    "\n",
    "I'm Monty Python."
   ]
  },
  {
   "cell_type": "code",
   "execution_count": 10,
   "metadata": {
    "ExecuteTime": {
     "end_time": "2022-12-07T12:24:01.017827Z",
     "start_time": "2022-12-07T12:24:01.012317Z"
    }
   },
   "outputs": [
    {
     "name": "stdout",
     "output_type": "stream",
     "text": [
      "I'm Monty Python.\n",
      "I'm Monty Python.\n"
     ]
    }
   ],
   "source": [
    "print('I\\'m Monty Python.')\n",
    "\n",
    "print(\"I'm Monty Python.\")"
   ]
  },
  {
   "cell_type": "markdown",
   "metadata": {},
   "source": [
    "An operator is a symbol of the programming language, which is able to operate on the values.\n",
    "\n",
    "For example, just as in arithmetic, the + (plus) sign is the operator which is able to add two numbers, giving the result of the addition.\n",
    "\n",
    "Not all Python operators are as obvious as the plus sign, though, so let's go through some of the operators available in Python, and we'll explain which rules govern their use, and how to interpret the operations they perform.\n",
    "\n",
    "We'll begin with the operators which are associated with the most widely recognizable arithmetic operations:\n",
    "\n",
    "+, -, *, /, //, %, **\n",
    "\n",
    "\n",
    "The order of their appearance is not accidental. We'll talk more about it once we've gone through them all.\n",
    "\n",
    "Remember: Data and operators when connected together form expressions. The simplest expression is a literal itself."
   ]
  },
  {
   "cell_type": "code",
   "execution_count": 11,
   "metadata": {
    "ExecuteTime": {
     "end_time": "2022-12-07T14:17:53.804769Z",
     "start_time": "2022-12-07T14:17:53.795308Z"
    }
   },
   "outputs": [
    {
     "name": "stdout",
     "output_type": "stream",
     "text": [
      "4\n",
      "0\n",
      "4\n",
      "1.0\n",
      "1\n",
      "0\n",
      "4\n"
     ]
    }
   ],
   "source": [
    "print(2+2)\n",
    "print(2-2)\n",
    "print(2*2)\n",
    "print(2/2)\n",
    "print(2//2)\n",
    "print(2%2)\n",
    "print(2**2)\n"
   ]
  },
  {
   "cell_type": "markdown",
   "metadata": {},
   "source": [
    "Arithmetic operators: exponentiation\n",
    "A ** (double asterisk) sign is an exponentiation (power) operator. Its left argument is the base, its right, the exponent.\n",
    "\n",
    "Classical mathematics prefers notation with superscripts, just like this: 23. Pure text editors don't accept that, so Python uses ** instead, e.g., 2 ** 3."
   ]
  },
  {
   "cell_type": "code",
   "execution_count": 12,
   "metadata": {
    "ExecuteTime": {
     "end_time": "2022-12-07T14:19:24.232427Z",
     "start_time": "2022-12-07T14:19:24.224781Z"
    }
   },
   "outputs": [
    {
     "name": "stdout",
     "output_type": "stream",
     "text": [
      "8\n",
      "8.0\n",
      "8.0\n",
      "8.0\n"
     ]
    }
   ],
   "source": [
    "print(2 ** 3)\n",
    "print(2 ** 3.)\n",
    "print(2. ** 3)\n",
    "print(2. ** 3.)\n"
   ]
  },
  {
   "cell_type": "markdown",
   "metadata": {},
   "source": [
    "becoming familiar with the print() function and its formatting capabilities;\n",
    "practicing coding strings;\n",
    "experimenting with Python code.\n",
    "Scenario\n",
    "Write a one-line piece of code, using the print() function, as well as the newline and escape characters, to match the expected result outputted on three lines.\n",
    "\n",
    "Expected output\n",
    "\n",
    "\"I'm\"\n",
    "\"\"learning\"\"\n",
    "\"\"\"Python\"\"\""
   ]
  },
  {
   "cell_type": "code",
   "execution_count": 14,
   "metadata": {
    "ExecuteTime": {
     "end_time": "2022-12-08T05:54:09.380578Z",
     "start_time": "2022-12-08T05:54:09.374864Z"
    }
   },
   "outputs": [
    {
     "name": "stdout",
     "output_type": "stream",
     "text": [
      "\"I'm\"\n",
      "\"\"learning\"\"\n",
      "\"\"\"python\"\"\"\n",
      "\n"
     ]
    }
   ],
   "source": [
    "print(\"\\\"I'm\\\"\\n\\\"\\\"learning\\\"\\\"\\n\\\"\\\"\\\"python\\\"\\\"\\\"\\n\")"
   ]
  },
  {
   "cell_type": "markdown",
   "metadata": {},
   "source": [
    "Arithmetic operators: multiplication and division"
   ]
  },
  {
   "cell_type": "code",
   "execution_count": 15,
   "metadata": {
    "ExecuteTime": {
     "end_time": "2022-12-08T05:56:26.568790Z",
     "start_time": "2022-12-08T05:56:26.562164Z"
    }
   },
   "outputs": [
    {
     "name": "stdout",
     "output_type": "stream",
     "text": [
      "4\n",
      "1.0\n"
     ]
    }
   ],
   "source": [
    "print(2*2)\n",
    "print(2/2)"
   ]
  },
  {
   "cell_type": "markdown",
   "metadata": {},
   "source": [
    "Arithmetic operators: integer division\n",
    "A // (double slash) sign is an integer divisional operator. It differs from the standard / operator in two details:\n",
    "\n",
    "its result lacks the fractional part - it's absent (for integers), or is always equal to zero (for floats); this means that the results are always rounded;\n",
    "it conforms to the integer vs. float rule."
   ]
  },
  {
   "cell_type": "code",
   "execution_count": 16,
   "metadata": {
    "ExecuteTime": {
     "end_time": "2022-12-08T05:59:25.500871Z",
     "start_time": "2022-12-08T05:59:25.495023Z"
    }
   },
   "outputs": [
    {
     "name": "stdout",
     "output_type": "stream",
     "text": [
      "1\n"
     ]
    }
   ],
   "source": [
    "print(2//2)"
   ]
  },
  {
   "cell_type": "markdown",
   "metadata": {},
   "source": [
    "Scenario\n",
    "Here is a short story:\n",
    "\n",
    "Once upon a time in Appleland, John had three apples, Mary had five apples, and Adam had six apples. They were all very happy and lived for a long time. End of story.\n",
    "\n",
    "Your task is to:\n",
    "\n",
    "create the variables: john, mary, and adam;\n",
    "assign values to the variables. The values must be equal to the numbers of fruit possessed by John, Mary, and Adam respectively;\n",
    "having stored the numbers in the variables, print the variables on one line, and separate each of them with a comma;\n",
    "now create a new variable named total_apples equal to addition of the three former variables.\n",
    "print the value stored in total_apples to the console;\n",
    "experiment with your code: create new variables, assign different values to them, and perform various arithmetic operations on them (e.g., +, -, *, /, //, etc.). Try to print a string and an integer together on one line, e.g., \"Total number of apples:\" and total_apples.\n"
   ]
  },
  {
   "cell_type": "code",
   "execution_count": 19,
   "metadata": {
    "ExecuteTime": {
     "end_time": "2022-12-08T06:37:45.865339Z",
     "start_time": "2022-12-08T06:37:45.851693Z"
    }
   },
   "outputs": [
    {
     "name": "stdout",
     "output_type": "stream",
     "text": [
      "3 5 6\n",
      "Total number of apples: 14\n",
      "Total number of apples: -8\n",
      "Total number of apples: 90\n",
      "Total number of apples: 0.09999999999999999\n",
      "Total number of apples: 0\n"
     ]
    }
   ],
   "source": [
    "John=3\n",
    "Mary=5\n",
    "Adam=6\n",
    "print(John,Mary,Adam)\n",
    "Totalapples=John+Mary+Adam\n",
    "print(\"Total number of apples:\",Totalapples)\n",
    "Totalapples=John-Mary-Adam\n",
    "print(\"Total number of apples:\",Totalapples)\n",
    "Totalapples=John*Mary*Adam\n",
    "print(\"Total number of apples:\",Totalapples)\n",
    "Totalapples=John/Mary/Adam\n",
    "print(\"Total number of apples:\",Totalapples)\n",
    "Totalapples=John//Mary//Adam\n",
    "print(\"Total number of apples:\",Totalapples)"
   ]
  },
  {
   "cell_type": "markdown",
   "metadata": {},
   "source": [
    "Miles and kilometers are units of length or distance.\n",
    "\n",
    "Bearing in mind that 1 mile is equal to approximately 1.61 kilometers, complete the program in the editor so that it converts:\n",
    "\n",
    "miles to kilometers;\n",
    "kilometers to miles.\n",
    "Do not change anything in the existing code. Write your code in the places indicated by ###. Test your program with the data we've provided in the source code.\n",
    "\n",
    "\n",
    "Pay particular attention to what is going on inside the print() function. Analyze how we provide multiple arguments to the function, and how we output the expected data.\n",
    "\n",
    "Note that some of the arguments inside the print() function are strings (e.g., \"miles is\", whereas some other are variables (e.g., miles).\n",
    "\n",
    "TIP\n",
    "\n",
    "There's one more interesting thing happening there. Can you see another function inside the print() function? It's the round() function. Its job is to round the outputted result to the number of decimal places specified in the parentheses, and return a float (inside the round() function you can find the variable name, a comma, and the number of decimal places we're aiming for). We're going to talk about functions very soon, so don't worry that everything may not be fully clear yet. We just want to spark your curiosity.\n",
    "\n",
    "\n",
    "After completing the lab, open Sandbox, and experiment more. Try to write different converters, e.g., a USD to EUR converter, a temperature converter, etc. - let your imagination fly! Try to output the results by combining strings and variables. Try to use and experiment with the round() function to round your results to one, two, or three decimal places. Check out what happens if you don't provide any number of digits. Remember to test your programs.\n",
    "\n",
    "Experiment, draw conclusions, and learn. Be curious.\n",
    "\n",
    "\n",
    "Expected output\n",
    "7.38 miles is 11.88 kilometers\n",
    "12.25 kilometers is 7.61 miles"
   ]
  },
  {
   "cell_type": "code",
   "execution_count": 21,
   "metadata": {
    "ExecuteTime": {
     "end_time": "2022-12-08T07:16:15.836946Z",
     "start_time": "2022-12-08T07:16:15.828259Z"
    }
   },
   "outputs": [
    {
     "name": "stdout",
     "output_type": "stream",
     "text": [
      "7.38 miles is 11.88 kilometers\n",
      "12.25 kilometers is 7.61 miles\n"
     ]
    }
   ],
   "source": [
    "kilometers = 12.25\n",
    "miles = 7.38\n",
    "\n",
    "miles_to_kilometers = miles*1.60934\n",
    "kilometers_to_miles = kilometers*0.621371\n",
    "\n",
    "print(miles, \"miles is\", round(miles_to_kilometers,2), \"kilometers\")\n",
    "print(kilometers, \"kilometers is\", round(kilometers_to_miles,2), \"miles\")"
   ]
  },
  {
   "cell_type": "markdown",
   "metadata": {},
   "source": [
    "Take a look at the code in the editor: it reads a float value, puts it into a variable named x, and prints the value of a variable named y. Your task is to complete the code in order to evaluate the following expression:\n",
    "\n",
    "3x3 - 2x2 + 3x - 1\n",
    "\n",
    "The result should be assigned to y.\n",
    "\n",
    "Remember that classical algebraic notation likes to omit the multiplication operator - you need to use it explicitly. Note how we change data type to make sure that x is of type float.\n",
    "\n",
    "Keep your code clean and readable, and test it using the data we've provided, each time assigning it to the x variable (by hardcoding it). Don't be discouraged by any initial failures. Be persistent and inquisitive."
   ]
  },
  {
   "cell_type": "code",
   "execution_count": 22,
   "metadata": {
    "ExecuteTime": {
     "end_time": "2022-12-08T07:44:38.112558Z",
     "start_time": "2022-12-08T07:44:38.103875Z"
    }
   },
   "outputs": [
    {
     "name": "stdout",
     "output_type": "stream",
     "text": [
      "y = -1.0\n"
     ]
    }
   ],
   "source": [
    "x = 0# hardcode your test data here\n",
    "x = float(x)\n",
    "y = 3*(x**3) - 2*(x**2) + 3*(x) - 1\n",
    "# write your code here\n",
    "print(\"y =\", y)\n"
   ]
  },
  {
   "cell_type": "markdown",
   "metadata": {},
   "source": [
    "The code in the editor contains comments. Try to improve it: add or remove comments where you find it appropriate (yes, sometimes removing a comment can make the code more readable), and change variable names where you think this will improve code comprehension.\n",
    "\n",
    "NOTE\n",
    "\n",
    "Comments are very important. They are used not only to make your programs easier to understand, but also to disable those pieces of code that are currently not needed (e.g., when you need to test some parts of your code only, and ignore other). Good programmers describe each important piece of code, and give self-commenting names to variables, as sometimes it is simply much better to leave information in the code.\n",
    "\n",
    "It's good to use readable variable names, and sometimes it's better to divide your code into named pieces (e.g., functions). In some situations, it's a good idea to write the steps of computations in a clearer way.\n",
    "\n",
    "One more thing: it may happen that a comment contains a wrong or incorrect piece of information - you should never do that on purpose!\n",
    "\n"
   ]
  },
  {
   "cell_type": "code",
   "execution_count": 23,
   "metadata": {
    "ExecuteTime": {
     "end_time": "2022-12-08T07:58:50.988847Z",
     "start_time": "2022-12-08T07:58:50.980540Z"
    }
   },
   "outputs": [
    {
     "name": "stdout",
     "output_type": "stream",
     "text": [
      "Hours:  2\n",
      "Seconds in Hours:  7200\n"
     ]
    }
   ],
   "source": [
    "a = 2 # number of hours\n",
    "seconds = 3600 # number of seconds in 1 hour\n",
    "\n",
    "print(\"Hours: \", a) #printing the number of hours\n",
    "print(\"Seconds in Hours: \", a * seconds)"
   ]
  },
  {
   "cell_type": "markdown",
   "metadata": {},
   "source": [
    "\n",
    "Type casting\n",
    "Python offers two simple functions to specify a type of data and solve this problem - here they are: int() and float().\n",
    "\n",
    "Their names are self-commenting:\n",
    "\n",
    "the int() function takes one argument (e.g., a string: int(string)) and tries to convert it into an integer; if it fails, the whole program will fail too (there is a workaround for this situation, but we'll show you this a little later);\n",
    "the float() function takes one argument (e.g., a string: float(string)) and tries to convert it into a float (the rest is the same).\n",
    "\n",
    "This is very simple and very effective. Moreover, you can invoke any of the functions by passing the input() results directly to them. There's no need to use any variable as an intermediate storage.\n",
    "\n",
    "We've implemented the idea in the editor - take a look at the code.\n",
    "\n",
    "Can you imagine how the string entered by the user flows from input() into print()?"
   ]
  },
  {
   "cell_type": "code",
   "execution_count": 25,
   "metadata": {
    "ExecuteTime": {
     "end_time": "2022-12-08T09:37:00.157518Z",
     "start_time": "2022-12-08T09:36:58.032556Z"
    }
   },
   "outputs": [
    {
     "name": "stdout",
     "output_type": "stream",
     "text": [
      "Enter a number5\n",
      "5.0 square value anything is: 25.0\n"
     ]
    }
   ],
   "source": [
    "anything=float(input(\"Enter a number\"))\n",
    "something=anything**2.0\n",
    "print(anything,\"square value anything is:\",something)"
   ]
  },
  {
   "cell_type": "markdown",
   "metadata": {},
   "source": [
    "Replication\n",
    "The * (asterisk) sign, when applied to a string and number (or a number and string, as it remains commutative in this position) becomes a replication operator:\n",
    "\n"
   ]
  },
  {
   "cell_type": "code",
   "execution_count": 26,
   "metadata": {
    "ExecuteTime": {
     "end_time": "2022-12-08T09:49:19.533586Z",
     "start_time": "2022-12-08T09:49:19.525362Z"
    }
   },
   "outputs": [
    {
     "name": "stdout",
     "output_type": "stream",
     "text": [
      "+----------+\n",
      "|          |\n",
      "|          |\n",
      "|          |\n",
      "|          |\n",
      "|          |\n",
      "+----------+\n"
     ]
    }
   ],
   "source": [
    "print(\"+\" + 10 * \"-\" + \"+\")\n",
    "print((\"|\" + \" \" * 10 + \"|\\n\") * 5, end=\"\")\n",
    "print(\"+\" + 10 * \"-\" + \"+\")"
   ]
  },
  {
   "cell_type": "markdown",
   "metadata": {},
   "source": [
    "Your task is to complete the code in order to evaluate the results of four basic arithmetic operations.\n",
    "\n",
    "The results have to be printed to the console.\n",
    "\n",
    "You may not be able to protect the code from a user who wants to divide by zero. That's okay, don't worry about it for now.\n",
    "\n",
    "Test your code - does it produce the results you expect?\n",
    "\n",
    "We won't show you any test data - that would be too simple.\n",
    "\n"
   ]
  },
  {
   "cell_type": "code",
   "execution_count": 27,
   "metadata": {
    "ExecuteTime": {
     "end_time": "2022-12-08T10:06:37.879431Z",
     "start_time": "2022-12-08T10:06:37.870267Z"
    }
   },
   "outputs": [
    {
     "name": "stdout",
     "output_type": "stream",
     "text": [
      "15.0\n",
      "5.0\n",
      "50.0\n",
      "2.0\n",
      "\n",
      "That's all, folks!\n"
     ]
    }
   ],
   "source": [
    "a=10.0# input a float value for variable a here\n",
    "b=5.0# input a float value for variable b here\n",
    "\n",
    "print(a+b)# output the result of addition here\n",
    "print(a-b)# output the result of subtraction here\n",
    "print(a*b)# output the result of multiplication here\n",
    "print(a/b)# output the result of division here\n",
    "\n",
    "print(\"\\nThat's all, folks!\")\n"
   ]
  },
  {
   "cell_type": "markdown",
   "metadata": {},
   "source": [
    "Objectives\n",
    "becoming familiar with the concept of numbers, operators and arithmetic operations in Python;\n",
    "understanding the precedence and associativity of Python operators, as well as the proper use of parentheses.\n",
    "Scenario\n",
    "Your task is to complete the code in order to evaluate the following expression:\n",
    "\n",
    "\n",
    "The result should be assigned to y. Be careful - watch the operators and keep their priorities in mind. Don't hesitate to use as many parentheses as you need.\n",
    "\n",
    "You can use additional variables to shorten the expression (but it's not necessary). Test your code carefully.\n",
    "\n"
   ]
  },
  {
   "cell_type": "code",
   "execution_count": 28,
   "metadata": {
    "ExecuteTime": {
     "end_time": "2022-12-08T10:38:11.148777Z",
     "start_time": "2022-12-08T10:38:08.883032Z"
    }
   },
   "outputs": [
    {
     "name": "stdout",
     "output_type": "stream",
     "text": [
      "Enter value for x: 1\n",
      "y = 0.6000000000000001\n"
     ]
    }
   ],
   "source": [
    "x = float(input(\"Enter value for x: \"))\n",
    "\n",
    "# Write your code here.\n",
    "y=(1/(x+(1/(x+(1/(x+(1/x)))))))\n",
    "print(\"y =\", y)"
   ]
  },
  {
   "cell_type": "markdown",
   "metadata": {},
   "source": [
    "Your task is to prepare a simple code able to evaluate the end time of a period of time, given as a number of minutes (it could be arbitrarily large). The start time is given as a pair of hours (0..23) and minutes (0..59). The result has to be printed to the console.\n",
    "\n",
    "For example, if an event starts at 12:17 and lasts 59 minutes, it will end at 13:16.\n",
    "\n",
    "Don't worry about any imperfections in your code - it's okay if it accepts an invalid time - the most important thing is that the code produce valid results for valid input data.\n",
    "\n",
    "Test your code carefully. Hint: using the % operator may be the key to success."
   ]
  },
  {
   "cell_type": "code",
   "execution_count": 29,
   "metadata": {
    "ExecuteTime": {
     "end_time": "2022-12-08T10:50:00.514536Z",
     "start_time": "2022-12-08T10:49:49.722722Z"
    }
   },
   "outputs": [
    {
     "name": "stdout",
     "output_type": "stream",
     "text": [
      "Starting time (hours): 12\n",
      "Starting time (minutes): 17\n",
      "Event duration (minutes): 59\n",
      "It will end at 13:16\n"
     ]
    }
   ],
   "source": [
    "hour = int(input(\"Starting time (hours): \"))\n",
    "mins = int(input(\"Starting time (minutes): \"))\n",
    "dura = int(input(\"Event duration (minutes): \"))\n",
    "\n",
    "time_hour = (hour + dura//60 + (mins+ dura%60)//60)%24\n",
    "time_min = (mins+ dura%60)%60\n",
    "print(\"It will end at \" + str(time_hour) + \":\" + str(time_min))"
   ]
  },
  {
   "cell_type": "code",
   "execution_count": null,
   "metadata": {},
   "outputs": [],
   "source": []
  }
 ],
 "metadata": {
  "kernelspec": {
   "display_name": "Python 3",
   "language": "python",
   "name": "python3"
  },
  "language_info": {
   "codemirror_mode": {
    "name": "ipython",
    "version": 3
   },
   "file_extension": ".py",
   "mimetype": "text/x-python",
   "name": "python",
   "nbconvert_exporter": "python",
   "pygments_lexer": "ipython3",
   "version": "3.8.5"
  },
  "toc": {
   "base_numbering": 1,
   "nav_menu": {},
   "number_sections": false,
   "sideBar": true,
   "skip_h1_title": false,
   "title_cell": "Table of Contents",
   "title_sidebar": "Contents",
   "toc_cell": false,
   "toc_position": {},
   "toc_section_display": true,
   "toc_window_display": false
  }
 },
 "nbformat": 4,
 "nbformat_minor": 4
}
