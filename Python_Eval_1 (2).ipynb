{
  "cells": [
    {
      "cell_type": "markdown",
      "metadata": {
        "id": "xyswzoerHJJJ"
      },
      "source": [
        "### Question 1"
      ]
    },
    {
      "cell_type": "markdown",
      "metadata": {
        "id": "2o4bbcNbHJJV"
      },
      "source": [
        "##### Get a mark from the user as input and calculate the letter grade for the mark scored and also Pass/Fail/Distinction"
      ]
    },
    {
      "cell_type": "markdown",
      "metadata": {
        "id": "qC7L3wyDHJJa"
      },
      "source": [
        "#### Conditions:\n",
        "\n",
        "1. Marks above 25 is considered as pass and below them is fail\n",
        "2. Between 26 and 35 -> Grade 'E'\n",
        "3. Between 36 and 50 -> Grade 'D'\n",
        "4. Between 51 and 60 -> Grade 'C'\n",
        "5. Between 61 and 75 -> Grade 'B'\n",
        "6. Between 76 and 95 -> Grade 'A'\n",
        "7. Between 96 and 99 -> Grade 'A+'\n",
        "8. Marks 100 -> Grade 'Distinction - O'"
      ]
    },
    {
      "cell_type": "markdown",
      "metadata": {
        "id": "0PFx6q-iHJJc"
      },
      "source": [
        "#### Sample input: 26\n",
        "#### Sample Output : Pass\n",
        "####                              E"
      ]
    },
    {
      "cell_type": "code",
      "execution_count": 37,
      "metadata": {
        "ExecuteTime": {
          "end_time": "2022-12-10T16:38:20.785902Z",
          "start_time": "2022-12-10T16:38:20.780949Z"
        },
        "colab": {
          "base_uri": "https://localhost:8080/"
        },
        "id": "y-AE3sB9HJJd",
        "outputId": "99352cff-ac64-4d03-f520-5d10fb8ee1a1"
      },
      "outputs": [
        {
          "output_type": "stream",
          "name": "stdout",
          "text": [
            "44\n",
            "pass\n",
            "Grade D\n"
          ]
        }
      ],
      "source": [
        "mark=int(input())\n",
        "if mark>=26: \n",
        "   print(\"pass\")\n",
        "   if mark>=26 and mark<=35:\n",
        "    print(\"Grade E\")\n",
        "    print(\"pass\")\n",
        "   else:\n",
        "      if mark>=36 and mark<=50:\n",
        "        print(\"Grade D\")\n",
        "        \n",
        "      else:\n",
        "        if mark>=51 and mark<=60:\n",
        "         print(\"Grade C\")\n",
        "      \n",
        "        else:\n",
        "         if mark>=61 and mark<=75:\n",
        "          print(\"Grade B\")\n",
        "          \n",
        "         else:\n",
        "          if mark>=76 and mark<=95:\n",
        "            print(\"Grade A\")\n",
        "            \n",
        "          else:\n",
        "            if mark>=96 and mark<=99:\n",
        "              print(\"Grade A+\")\n",
        "             \n",
        "            else:\n",
        "              if mark==100:\n",
        "                print(\"Grade O\")\n",
        "                print(\"distinction\")\n",
        "              \n",
        "\n",
        "else:\n",
        "  print(\"fail\")\n",
        "\n",
        "\n"
      ]
    },
    {
      "cell_type": "markdown",
      "metadata": {
        "id": "MhZchiqvHJJh"
      },
      "source": [
        "### Question 2"
      ]
    },
    {
      "cell_type": "markdown",
      "metadata": {
        "id": "83Jz9r3hHJJj"
      },
      "source": [
        "#### Get a number as an input from user (It can also be a decimal number). Calculate the square of the number given as input. When the result is above 100, print \"Maximum Limit Reached\". \n",
        "##### Constraints: The input number cannot be more than 250"
      ]
    },
    {
      "cell_type": "code",
      "source": [
        "a=float(input())\n",
        "b=3.0\n",
        "if a <=250:\n",
        " c=pow(a,b)\n",
        "else:\n",
        "  print(\"number cannot be more than 250\")\n",
        "#print(c)\n",
        "if c>100:\n",
        "  print (\"Maximum Limit Reached\")\n",
        "else:\n",
        "  print(c)"
      ],
      "metadata": {
        "colab": {
          "base_uri": "https://localhost:8080/"
        },
        "id": "B9JCx0BLDxpZ",
        "outputId": "ea069cdb-4457-4334-a83a-3ea141fdf928"
      },
      "execution_count": 45,
      "outputs": [
        {
          "output_type": "stream",
          "name": "stdout",
          "text": [
            "2\n",
            "8.0\n"
          ]
        }
      ]
    },
    {
      "cell_type": "markdown",
      "metadata": {
        "id": "RuYDh4w_HJJm"
      },
      "source": [
        "### Question 3"
      ]
    },
    {
      "cell_type": "markdown",
      "metadata": {
        "id": "S0oVlmKnHJJo"
      },
      "source": [
        "#### Get two numbers as input from user. If both the numbers are below 10, you shoud add the two numbers. If both the numbers are above 10, Calculate the product of two numbers. \n",
        "##### Constraints: Identify the exceptions/cases that can rise apart from the above given scenarios"
      ]
    },
    {
      "cell_type": "code",
      "execution_count": 3,
      "metadata": {
        "ExecuteTime": {
          "end_time": "2022-12-10T16:45:11.490991Z",
          "start_time": "2022-12-10T16:45:11.487147Z"
        },
        "colab": {
          "base_uri": "https://localhost:8080/"
        },
        "id": "LA8RG9XCHJJp",
        "outputId": "008b89a8-5b13-460d-82c2-e37f6f90e574"
      },
      "outputs": [
        {
          "output_type": "stream",
          "name": "stdout",
          "text": [
            "3\n",
            "4\n",
            "7\n"
          ]
        }
      ],
      "source": [
        "a=int(input())\n",
        "b=int(input())\n",
        "if a<10 and b<10:\n",
        "  print(a+b)\n",
        "elif a>10 and b>10:\n",
        "  print(a*b)\n",
        "else:\n",
        "  print(\"number\")"
      ]
    },
    {
      "cell_type": "markdown",
      "metadata": {
        "id": "PkD7UcgFHJJq"
      },
      "source": [
        "5### Question 4"
      ]
    },
    {
      "cell_type": "markdown",
      "metadata": {
        "id": "trcw1cToHJJr"
      },
      "source": [
        "#### Consider the below list \"a\". Get a string input from user. Check whether the string is in the list \"a\". If the string is present in the list, print \"Alphabet Present\", else print \"Not Found\""
      ]
    },
    {
      "cell_type": "code",
      "execution_count": null,
      "metadata": {
        "ExecuteTime": {
          "end_time": "2022-12-10T16:47:31.530335Z",
          "start_time": "2022-12-10T16:47:31.525667Z"
        },
        "id": "VmBLXhUpHJJs"
      },
      "outputs": [],
      "source": [
        "a = [\"A\",\"B\", \"C\", \"D\", \"E\"]"
      ]
    },
    {
      "cell_type": "code",
      "execution_count": null,
      "metadata": {
        "ExecuteTime": {
          "end_time": "2022-12-10T16:47:38.106288Z",
          "start_time": "2022-12-10T16:47:38.102510Z"
        },
        "colab": {
          "base_uri": "https://localhost:8080/"
        },
        "id": "Dw36kJKeHJJt",
        "outputId": "2dfc356f-7b43-4e22-b930-6aa430cc56d0"
      },
      "outputs": [
        {
          "output_type": "stream",
          "name": "stdout",
          "text": [
            "M\n",
            "Not Found\n"
          ]
        }
      ],
      "source": [
        "Alphabet=str(input())\n",
        "if Alphabet in a:\n",
        "  print( \"Alphabet Present\")\n",
        "else:\n",
        "  print(\"Not Found\")"
      ]
    },
    {
      "cell_type": "markdown",
      "metadata": {
        "id": "H57niQrHHJJu"
      },
      "source": [
        "### Question 5"
      ]
    },
    {
      "cell_type": "markdown",
      "metadata": {
        "id": "aHTIfMKrHJJu"
      },
      "source": [
        "#### The list of movies that has expired is given in the expired data given below. The \"Status\" column usually has only \"Yes\" as value, since all the movies are expired. Check the \"Status\" column, If there is \"No\" in the column, print the \"MovieID\" and \"MovieName\". \n",
        "\n",
        "The data is given as a dictionary. Please convert this as a dataframe and solve the problem\n",
        "\n",
        "##### Note: Please convert the \"Status\" column as a list"
      ]
    },
    {
      "cell_type": "code",
      "execution_count": null,
      "metadata": {
        "ExecuteTime": {
          "end_time": "2022-12-10T16:53:10.252560Z",
          "start_time": "2022-12-10T16:53:10.246506Z"
        },
        "id": "F5LaqkmYHJJv"
      },
      "outputs": [],
      "source": [
        "dictionary = {\n",
        "    \"MovieID\" : ['A12', 'B23', 'C34', 'D45'],\n",
        "    \"MovieName\" : ['MOV1', 'MOV2', 'MOV3', 'MOV4'],\n",
        "    \"Status\" : ['Yes', 'Yes', 'No', 'Yes']\n",
        "}"
      ]
    },
    {
      "cell_type": "code",
      "execution_count": null,
      "metadata": {
        "colab": {
          "base_uri": "https://localhost:8080/",
          "height": 175
        },
        "id": "5uf_0ttvHJJx",
        "outputId": "bcbe4741-1624-497b-a9b9-a6bc43b4fb6c"
      },
      "outputs": [
        {
          "output_type": "execute_result",
          "data": {
            "text/plain": [
              "  MovieID MovieName Status\n",
              "0     A12      MOV1    Yes\n",
              "1     B23      MOV2    Yes\n",
              "2     C34      MOV3     No\n",
              "3     D45      MOV4    Yes"
            ],
            "text/html": [
              "\n",
              "  <div id=\"df-eba31ed4-0254-4fb2-a2f0-d48036c43412\">\n",
              "    <div class=\"colab-df-container\">\n",
              "      <div>\n",
              "<style scoped>\n",
              "    .dataframe tbody tr th:only-of-type {\n",
              "        vertical-align: middle;\n",
              "    }\n",
              "\n",
              "    .dataframe tbody tr th {\n",
              "        vertical-align: top;\n",
              "    }\n",
              "\n",
              "    .dataframe thead th {\n",
              "        text-align: right;\n",
              "    }\n",
              "</style>\n",
              "<table border=\"1\" class=\"dataframe\">\n",
              "  <thead>\n",
              "    <tr style=\"text-align: right;\">\n",
              "      <th></th>\n",
              "      <th>MovieID</th>\n",
              "      <th>MovieName</th>\n",
              "      <th>Status</th>\n",
              "    </tr>\n",
              "  </thead>\n",
              "  <tbody>\n",
              "    <tr>\n",
              "      <th>0</th>\n",
              "      <td>A12</td>\n",
              "      <td>MOV1</td>\n",
              "      <td>Yes</td>\n",
              "    </tr>\n",
              "    <tr>\n",
              "      <th>1</th>\n",
              "      <td>B23</td>\n",
              "      <td>MOV2</td>\n",
              "      <td>Yes</td>\n",
              "    </tr>\n",
              "    <tr>\n",
              "      <th>2</th>\n",
              "      <td>C34</td>\n",
              "      <td>MOV3</td>\n",
              "      <td>No</td>\n",
              "    </tr>\n",
              "    <tr>\n",
              "      <th>3</th>\n",
              "      <td>D45</td>\n",
              "      <td>MOV4</td>\n",
              "      <td>Yes</td>\n",
              "    </tr>\n",
              "  </tbody>\n",
              "</table>\n",
              "</div>\n",
              "      <button class=\"colab-df-convert\" onclick=\"convertToInteractive('df-eba31ed4-0254-4fb2-a2f0-d48036c43412')\"\n",
              "              title=\"Convert this dataframe to an interactive table.\"\n",
              "              style=\"display:none;\">\n",
              "        \n",
              "  <svg xmlns=\"http://www.w3.org/2000/svg\" height=\"24px\"viewBox=\"0 0 24 24\"\n",
              "       width=\"24px\">\n",
              "    <path d=\"M0 0h24v24H0V0z\" fill=\"none\"/>\n",
              "    <path d=\"M18.56 5.44l.94 2.06.94-2.06 2.06-.94-2.06-.94-.94-2.06-.94 2.06-2.06.94zm-11 1L8.5 8.5l.94-2.06 2.06-.94-2.06-.94L8.5 2.5l-.94 2.06-2.06.94zm10 10l.94 2.06.94-2.06 2.06-.94-2.06-.94-.94-2.06-.94 2.06-2.06.94z\"/><path d=\"M17.41 7.96l-1.37-1.37c-.4-.4-.92-.59-1.43-.59-.52 0-1.04.2-1.43.59L10.3 9.45l-7.72 7.72c-.78.78-.78 2.05 0 2.83L4 21.41c.39.39.9.59 1.41.59.51 0 1.02-.2 1.41-.59l7.78-7.78 2.81-2.81c.8-.78.8-2.07 0-2.86zM5.41 20L4 18.59l7.72-7.72 1.47 1.35L5.41 20z\"/>\n",
              "  </svg>\n",
              "      </button>\n",
              "      \n",
              "  <style>\n",
              "    .colab-df-container {\n",
              "      display:flex;\n",
              "      flex-wrap:wrap;\n",
              "      gap: 12px;\n",
              "    }\n",
              "\n",
              "    .colab-df-convert {\n",
              "      background-color: #E8F0FE;\n",
              "      border: none;\n",
              "      border-radius: 50%;\n",
              "      cursor: pointer;\n",
              "      display: none;\n",
              "      fill: #1967D2;\n",
              "      height: 32px;\n",
              "      padding: 0 0 0 0;\n",
              "      width: 32px;\n",
              "    }\n",
              "\n",
              "    .colab-df-convert:hover {\n",
              "      background-color: #E2EBFA;\n",
              "      box-shadow: 0px 1px 2px rgba(60, 64, 67, 0.3), 0px 1px 3px 1px rgba(60, 64, 67, 0.15);\n",
              "      fill: #174EA6;\n",
              "    }\n",
              "\n",
              "    [theme=dark] .colab-df-convert {\n",
              "      background-color: #3B4455;\n",
              "      fill: #D2E3FC;\n",
              "    }\n",
              "\n",
              "    [theme=dark] .colab-df-convert:hover {\n",
              "      background-color: #434B5C;\n",
              "      box-shadow: 0px 1px 3px 1px rgba(0, 0, 0, 0.15);\n",
              "      filter: drop-shadow(0px 1px 2px rgba(0, 0, 0, 0.3));\n",
              "      fill: #FFFFFF;\n",
              "    }\n",
              "  </style>\n",
              "\n",
              "      <script>\n",
              "        const buttonEl =\n",
              "          document.querySelector('#df-eba31ed4-0254-4fb2-a2f0-d48036c43412 button.colab-df-convert');\n",
              "        buttonEl.style.display =\n",
              "          google.colab.kernel.accessAllowed ? 'block' : 'none';\n",
              "\n",
              "        async function convertToInteractive(key) {\n",
              "          const element = document.querySelector('#df-eba31ed4-0254-4fb2-a2f0-d48036c43412');\n",
              "          const dataTable =\n",
              "            await google.colab.kernel.invokeFunction('convertToInteractive',\n",
              "                                                     [key], {});\n",
              "          if (!dataTable) return;\n",
              "\n",
              "          const docLinkHtml = 'Like what you see? Visit the ' +\n",
              "            '<a target=\"_blank\" href=https://colab.research.google.com/notebooks/data_table.ipynb>data table notebook</a>'\n",
              "            + ' to learn more about interactive tables.';\n",
              "          element.innerHTML = '';\n",
              "          dataTable['output_type'] = 'display_data';\n",
              "          await google.colab.output.renderOutput(dataTable, element);\n",
              "          const docLink = document.createElement('div');\n",
              "          docLink.innerHTML = docLinkHtml;\n",
              "          element.appendChild(docLink);\n",
              "        }\n",
              "      </script>\n",
              "    </div>\n",
              "  </div>\n",
              "  "
            ]
          },
          "metadata": {},
          "execution_count": 29
        }
      ],
      "source": [
        "import pandas as pd\n",
        "movie= pd.DataFrame(dictionary)\n",
        "movie\n"
      ]
    },
    {
      "cell_type": "code",
      "source": [
        "movie1=movie.loc[movie['Status'] == 'No']\n",
        "print(movie1)"
      ],
      "metadata": {
        "colab": {
          "base_uri": "https://localhost:8080/"
        },
        "id": "BbrIhdIyQ7ls",
        "outputId": "151ca321-261a-49b9-a80a-90505d17e95e"
      },
      "execution_count": null,
      "outputs": [
        {
          "output_type": "stream",
          "name": "stdout",
          "text": [
            "  MovieID MovieName Status\n",
            "2     C34      MOV3     No\n"
          ]
        }
      ]
    },
    {
      "cell_type": "code",
      "execution_count": null,
      "metadata": {
        "colab": {
          "base_uri": "https://localhost:8080/"
        },
        "id": "4G-oXeDdHJJy",
        "outputId": "97b9e7be-4cd6-47c4-a146-cc9d33b7ae0b"
      },
      "outputs": [
        {
          "output_type": "stream",
          "name": "stdout",
          "text": [
            "  MovieID MovieName Status\n",
            "0     A12      MOV1    Yes\n",
            "1     B23      MOV2    Yes\n",
            "3     D45      MOV4    Yes\n"
          ]
        }
      ],
      "source": [
        "movie2=movie.loc[movie['Status'] == 'Yes']\n",
        "print(movie2)\n",
        "\n"
      ]
    },
    {
      "cell_type": "markdown",
      "metadata": {
        "id": "i4TPzXF-HJJy"
      },
      "source": [
        "## Python List - Questions"
      ]
    },
    {
      "cell_type": "markdown",
      "metadata": {
        "id": "1wlI9UidHJJz"
      },
      "source": [
        "#### Consider the below list named 'list1' and answer the below questions"
      ]
    },
    {
      "cell_type": "code",
      "execution_count": 11,
      "metadata": {
        "ExecuteTime": {
          "end_time": "2022-12-10T16:54:52.709001Z",
          "start_time": "2022-12-10T16:54:52.703926Z"
        },
        "id": "9uCHNZygHJJz"
      },
      "outputs": [],
      "source": [
        "list1 = [1,2,3,4,5]"
      ]
    },
    {
      "cell_type": "markdown",
      "metadata": {
        "id": "TpPqr686HJJ0"
      },
      "source": [
        "#### Print the 1st number of the list"
      ]
    },
    {
      "cell_type": "code",
      "execution_count": null,
      "metadata": {
        "colab": {
          "base_uri": "https://localhost:8080/"
        },
        "id": "tJOUG87gHJJ1",
        "outputId": "8a48f445-6574-4246-8808-31db3e5d1424"
      },
      "outputs": [
        {
          "output_type": "execute_result",
          "data": {
            "text/plain": [
              "1"
            ]
          },
          "metadata": {},
          "execution_count": 66
        }
      ],
      "source": [
        "list1[0]"
      ]
    },
    {
      "cell_type": "markdown",
      "metadata": {
        "id": "oiFBgrHqHJJ1"
      },
      "source": [
        "#### Print all elements after index 2"
      ]
    },
    {
      "cell_type": "code",
      "execution_count": null,
      "metadata": {
        "colab": {
          "base_uri": "https://localhost:8080/"
        },
        "id": "TJu30FI4HJJ1",
        "outputId": "eb0a0dcf-1c88-4571-d3b5-ad1ad49920b7"
      },
      "outputs": [
        {
          "output_type": "execute_result",
          "data": {
            "text/plain": [
              "[4, 5]"
            ]
          },
          "metadata": {},
          "execution_count": 10
        }
      ],
      "source": [
        "list1[3:len(list1)]"
      ]
    },
    {
      "cell_type": "code",
      "source": [
        "list1[3:]"
      ],
      "metadata": {
        "colab": {
          "base_uri": "https://localhost:8080/"
        },
        "id": "edTTUrRlFsG5",
        "outputId": "842c7855-233c-4bfe-a183-840e1d276985"
      },
      "execution_count": null,
      "outputs": [
        {
          "output_type": "execute_result",
          "data": {
            "text/plain": [
              "[4, 5]"
            ]
          },
          "metadata": {},
          "execution_count": 11
        }
      ]
    },
    {
      "cell_type": "markdown",
      "metadata": {
        "id": "h-khAuTAHJJ1"
      },
      "source": [
        "#### Print last element of the list"
      ]
    },
    {
      "cell_type": "code",
      "execution_count": 13,
      "metadata": {
        "colab": {
          "base_uri": "https://localhost:8080/"
        },
        "id": "QTdruy2JHJJ2",
        "outputId": "98f94d00-9d6f-4c3a-bb28-55defb5c1a04"
      },
      "outputs": [
        {
          "output_type": "execute_result",
          "data": {
            "text/plain": [
              "[5]"
            ]
          },
          "metadata": {},
          "execution_count": 13
        }
      ],
      "source": [
        "list1[len(list1)-1:]"
      ]
    },
    {
      "cell_type": "code",
      "source": [
        "list1[-1]"
      ],
      "metadata": {
        "colab": {
          "base_uri": "https://localhost:8080/"
        },
        "id": "BBa8aKh_zaba",
        "outputId": "614f836b-9c63-4f58-f4f5-8177391c0866"
      },
      "execution_count": 15,
      "outputs": [
        {
          "output_type": "execute_result",
          "data": {
            "text/plain": [
              "5"
            ]
          },
          "metadata": {},
          "execution_count": 15
        }
      ]
    },
    {
      "cell_type": "markdown",
      "metadata": {
        "id": "tRkGWz7jHJJ2"
      },
      "source": [
        "#### print last three elements of the list"
      ]
    },
    {
      "cell_type": "code",
      "execution_count": null,
      "metadata": {
        "colab": {
          "base_uri": "https://localhost:8080/"
        },
        "id": "53h94uiBHJJ2",
        "outputId": "0df85ccc-f33d-4d6f-938e-350b952634e6"
      },
      "outputs": [
        {
          "output_type": "execute_result",
          "data": {
            "text/plain": [
              "[3, 4, 5]"
            ]
          },
          "metadata": {},
          "execution_count": 19
        }
      ],
      "source": [
        "list1[len(list1)-3:]"
      ]
    },
    {
      "cell_type": "code",
      "source": [
        "list1[-3:]"
      ],
      "metadata": {
        "colab": {
          "base_uri": "https://localhost:8080/"
        },
        "id": "ZOrksvOAzna8",
        "outputId": "65232403-11c0-4190-e030-359a35882d90"
      },
      "execution_count": 19,
      "outputs": [
        {
          "output_type": "execute_result",
          "data": {
            "text/plain": [
              "[3, 4, 5]"
            ]
          },
          "metadata": {},
          "execution_count": 19
        }
      ]
    },
    {
      "cell_type": "markdown",
      "metadata": {
        "id": "PkLgX3htHJJ3"
      },
      "source": [
        "#### add a number '7' to the list"
      ]
    },
    {
      "cell_type": "code",
      "execution_count": null,
      "metadata": {
        "colab": {
          "base_uri": "https://localhost:8080/"
        },
        "id": "MLMQ16zXHJJ3",
        "outputId": "a71e7a87-0cdf-4103-e9a7-791a7d9b0577"
      },
      "outputs": [
        {
          "output_type": "execute_result",
          "data": {
            "text/plain": [
              "[1, 2, 3, 4, 5, 7]"
            ]
          },
          "metadata": {},
          "execution_count": 15
        }
      ],
      "source": [
        "list1.append(7)\n",
        "list1"
      ]
    },
    {
      "cell_type": "markdown",
      "metadata": {
        "id": "3BYVchUiHJJ4"
      },
      "source": [
        "## Python Dict - Questions"
      ]
    },
    {
      "cell_type": "markdown",
      "metadata": {
        "id": "ccwHpJjDHJJ4"
      },
      "source": [
        "#### Consider the below dictionary and answer the following questions"
      ]
    },
    {
      "cell_type": "code",
      "execution_count": null,
      "metadata": {
        "ExecuteTime": {
          "end_time": "2022-12-10T16:58:34.998077Z",
          "start_time": "2022-12-10T16:58:34.993189Z"
        },
        "id": "eqvLB98dHJJ5"
      },
      "outputs": [],
      "source": [
        "sample = {\n",
        "    'A' : 2,\n",
        "    'B' : 3,\n",
        "    'C' : 4\n",
        "}"
      ]
    },
    {
      "cell_type": "markdown",
      "metadata": {
        "id": "IkJny_XEHJJ6"
      },
      "source": [
        "#### Print all the keys of the dictionary"
      ]
    },
    {
      "cell_type": "code",
      "execution_count": null,
      "metadata": {
        "colab": {
          "base_uri": "https://localhost:8080/"
        },
        "id": "gaQMANKEHJJ6",
        "outputId": "595972ab-bdef-42de-ecff-6f103b68a26d"
      },
      "outputs": [
        {
          "output_type": "stream",
          "name": "stdout",
          "text": [
            "dict_keys(['A', 'B', 'C'])\n"
          ]
        }
      ],
      "source": [
        "print(sample.keys())"
      ]
    },
    {
      "cell_type": "markdown",
      "metadata": {
        "id": "KM_RKrx-HJJ6"
      },
      "source": [
        "#### Get the value of \"B\" from the dictionary"
      ]
    },
    {
      "cell_type": "code",
      "execution_count": null,
      "metadata": {
        "colab": {
          "base_uri": "https://localhost:8080/"
        },
        "id": "Cjlnr1OxHJJ7",
        "outputId": "7c6d68a5-c748-48a6-cc9f-a400c50a1619"
      },
      "outputs": [
        {
          "output_type": "stream",
          "name": "stdout",
          "text": [
            "3\n"
          ]
        }
      ],
      "source": [
        "print(sample[\"B\"])"
      ]
    },
    {
      "cell_type": "markdown",
      "metadata": {
        "id": "mBOCWst8HJJ7"
      },
      "source": [
        "#### Add a new element called \"D\" to the dictionary and assign [1,4,5,8] as value to it."
      ]
    },
    {
      "cell_type": "code",
      "execution_count": 20,
      "metadata": {
        "id": "J-IdrFBAHJJ8"
      },
      "outputs": [],
      "source": [
        "sample = {\n",
        "    'A' : 2,\n",
        "    'B' : 3,\n",
        "    'C' : 4\n",
        "}"
      ]
    },
    {
      "cell_type": "markdown",
      "metadata": {
        "id": "NVv7HCYSHJJ8"
      },
      "source": []
    },
    {
      "cell_type": "code",
      "source": [
        "sample.update({\"D\": [1, 4, 5, 8]})"
      ],
      "metadata": {
        "id": "Bhh430vV0XnT"
      },
      "execution_count": 21,
      "outputs": []
    },
    {
      "cell_type": "code",
      "source": [
        "sample"
      ],
      "metadata": {
        "colab": {
          "base_uri": "https://localhost:8080/"
        },
        "id": "7dEhU7y-0jI8",
        "outputId": "c93831c2-d508-4a54-9344-42c45611a3a9"
      },
      "execution_count": 22,
      "outputs": [
        {
          "output_type": "execute_result",
          "data": {
            "text/plain": [
              "{'A': 2, 'B': 3, 'C': 4, 'D': [1, 4, 5, 8]}"
            ]
          },
          "metadata": {},
          "execution_count": 22
        }
      ]
    },
    {
      "cell_type": "code",
      "execution_count": null,
      "metadata": {
        "colab": {
          "base_uri": "https://localhost:8080/"
        },
        "id": "Md3lWbAxHJJ8",
        "outputId": "86ee5398-fe76-44e7-8db3-f23bbc37d7a8"
      },
      "outputs": [
        {
          "output_type": "stream",
          "name": "stdout",
          "text": [
            "dict_values([1, 4, 5, 8])\n"
          ]
        }
      ],
      "source": [
        "print(sample.values())"
      ]
    },
    {
      "cell_type": "code",
      "execution_count": null,
      "metadata": {
        "id": "Rr_sc8R9HJJ9"
      },
      "outputs": [],
      "source": []
    }
  ],
  "metadata": {
    "kernelspec": {
      "display_name": "shakespeare",
      "language": "python",
      "name": "shakespeare"
    },
    "language_info": {
      "codemirror_mode": {
        "name": "ipython",
        "version": 3
      },
      "file_extension": ".py",
      "mimetype": "text/x-python",
      "name": "python",
      "nbconvert_exporter": "python",
      "pygments_lexer": "ipython3",
      "version": "3.8.5"
    },
    "toc": {
      "base_numbering": 1,
      "nav_menu": {},
      "number_sections": false,
      "sideBar": true,
      "skip_h1_title": false,
      "title_cell": "Table of Contents",
      "title_sidebar": "Contents",
      "toc_cell": false,
      "toc_position": {},
      "toc_section_display": true,
      "toc_window_display": false
    },
    "colab": {
      "provenance": []
    }
  },
  "nbformat": 4,
  "nbformat_minor": 0
}